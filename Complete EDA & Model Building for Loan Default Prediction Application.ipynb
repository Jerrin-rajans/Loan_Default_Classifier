{
 "cells": [
  {
   "cell_type": "markdown",
   "id": "351a787c",
   "metadata": {},
   "source": [
    "# 1. Importing Necessary libraries"
   ]
  },
  {
   "cell_type": "code",
   "execution_count": 1,
   "id": "597a14fb",
   "metadata": {},
   "outputs": [
    {
     "data": {
      "text/html": [
       "        <script type=\"text/javascript\">\n",
       "        window.PlotlyConfig = {MathJaxConfig: 'local'};\n",
       "        if (window.MathJax && window.MathJax.Hub && window.MathJax.Hub.Config) {window.MathJax.Hub.Config({SVG: {font: \"STIX-Web\"}});}\n",
       "        if (typeof require !== 'undefined') {\n",
       "        require.undef(\"plotly\");\n",
       "        requirejs.config({\n",
       "            paths: {\n",
       "                'plotly': ['https://cdn.plot.ly/plotly-2.12.1.min']\n",
       "            }\n",
       "        });\n",
       "        require(['plotly'], function(Plotly) {\n",
       "            window._Plotly = Plotly;\n",
       "        });\n",
       "        }\n",
       "        </script>\n",
       "        "
      ]
     },
     "metadata": {},
     "output_type": "display_data"
    }
   ],
   "source": [
    "import pandas as pd\n",
    "import numpy as np\n",
    "import matplotlib.pyplot as plt\n",
    "%matplotlib inline\n",
    "import seaborn as sns\n",
    "import plotly.offline as py\n",
    "import plotly.figure_factory as ff\n",
    "py.init_notebook_mode(connected=True)\n",
    "import plotly.express as px\n",
    "\n",
    "from plotly.subplots import make_subplots\n",
    "\n",
    "from sklearn.preprocessing import StandardScaler\n",
    "from scipy import stats\n",
    "import warnings\n",
    "warnings.filterwarnings('ignore')\n",
    "\n",
    "pd.set_option('display.max_rows',500)\n",
    "pd.set_option('display.max_columns',500)\n",
    "pd.set_option('display.width',1000)\n",
    "\n",
    "import itertools\n",
    "import xgboost as xgb\n",
    "from sklearn.linear_model import LogisticRegression\n",
    "from sklearn.ensemble import RandomForestClassifier, VotingClassifier\n",
    "from sklearn.model_selection import StratifiedKFold\n",
    "from sklearn.metrics import precision_score, recall_score, confusion_matrix, classification_report, roc_curve, precision_recall_curve\n",
    "import warnings\n",
    "from numpy import mean\n",
    "from numpy import std\n"
   ]
  },
  {
   "cell_type": "markdown",
   "id": "aff68b77",
   "metadata": {},
   "source": [
    "# 2. Reading the data\n"
   ]
  },
  {
   "cell_type": "code",
   "execution_count": 2,
   "id": "cc3e7d5e",
   "metadata": {},
   "outputs": [],
   "source": [
    "df_train = pd.read_csv('C:\\\\Users\\\\jerri\\\\Desktop\\\\Problem statement\\\\Loan Default Prediction\\\\data\\\\Train_Dataset.csv',low_memory=False)\n",
    "df_test = pd.read_csv('C:\\\\Users\\\\jerri\\\\Desktop\\\\Problem statement\\\\Loan Default Prediction\\\\data\\\\Test_Dataset.csv',low_memory=False)"
   ]
  },
  {
   "cell_type": "code",
   "execution_count": 3,
   "id": "00dd96b2",
   "metadata": {},
   "outputs": [
    {
     "name": "stdout",
     "output_type": "stream",
     "text": [
      " Shape of training dataframe:  (121856, 40)\n",
      " Shape of testing dataframe:  (80900, 39)\n",
      "(121856, 40)\n",
      "(80900, 39)\n"
     ]
    }
   ],
   "source": [
    "#Shape of dataframe\n",
    "print(\" Shape of training dataframe: \", df_train.shape)\n",
    "print(\" Shape of testing dataframe: \", df_test.shape)\n",
    "\n",
    "# Drop duplicates\n",
    "df_train.drop_duplicates()\n",
    "df_test.drop_duplicates()\n",
    "print(df_train.shape)\n",
    "print(df_test.shape)"
   ]
  },
  {
   "cell_type": "code",
   "execution_count": 4,
   "id": "a2a7fd7a",
   "metadata": {},
   "outputs": [
    {
     "name": "stdout",
     "output_type": "stream",
     "text": [
      "Null Values in each column:\n",
      "                    column name  Total missing  Percent missing\n",
      "0                Own_House_Age          80095         0.657292\n",
      "1               Score_Source_1          68835         0.564888\n",
      "2        Social_Circle_Default          61928         0.508206\n",
      "3            Client_Occupation          41435         0.340032\n",
      "4               Score_Source_3          26921         0.220925\n",
      "5                Credit_Bureau          18540         0.152147\n",
      "6                      ID_Days           5968         0.048976\n",
      "7               Score_Source_2           5686         0.046662\n",
      "8   Population_Region_Relative           4857         0.039859\n",
      "9                 Loan_Annuity           4812         0.039489\n",
      "10          Client_Income_Type           3701         0.030372\n",
      "11         Client_Housing_Type           3687         0.030257\n",
      "12                Phone_Change           3664         0.030068\n",
      "13    Application_Process_Hour           3663         0.030060\n",
      "14                   House_Own           3661         0.030044\n",
      "15          Loan_Contract_Type           3651         0.029962\n",
      "16               Employed_Days           3649         0.029945\n",
      "17            Client_Education           3645         0.029912\n",
      "18                 Child_Count           3638         0.029855\n",
      "19                 Active_Loan           3635         0.029830\n",
      "20               Credit_Amount           3632         0.029806\n",
      "21                  Bike_Owned           3624         0.029740\n",
      "22           Registration_Days           3614         0.029658\n",
      "23           Type_Organization           3609         0.029617\n",
      "24               Client_Income           3607         0.029601\n",
      "25                    Age_Days           3600         0.029543\n",
      "26                   Car_Owned           3581         0.029387\n",
      "27       Client_Marital_Status           3473         0.028501\n",
      "28     Application_Process_Day           2428         0.019925\n",
      "29               Client_Gender           2413         0.019802\n",
      "30       Client_Family_Members           2410         0.019777\n",
      "31          Cleint_City_Rating           2409         0.019769\n",
      "32            Accompany_Client           1746         0.014328\n",
      "33                          ID              0         0.000000\n",
      "34     Client_Contact_Work_Tag              0         0.000000\n",
      "35  Client_Permanent_Match_Tag              0         0.000000\n",
      "36           Workphone_Working              0         0.000000\n",
      "37               Homephone_Tag              0         0.000000\n",
      "38                  Mobile_Tag              0         0.000000\n",
      "39                     Default              0         0.000000\n"
     ]
    }
   ],
   "source": [
    "null= df_train.isnull().sum().sort_values(ascending=False)\n",
    "total =df_train.shape[0]\n",
    "percent_missing= (df_train.isnull().sum()/total).sort_values(ascending=False)\n",
    "\n",
    "missing_data= pd.concat([null, percent_missing], axis=1, \n",
    "                        keys=['Total missing', 'Percent missing'])\n",
    "\n",
    "missing_data.reset_index(inplace=True)\n",
    "missing_data= missing_data.rename(columns= { \"index\": \" column name\"})\n",
    " \n",
    "print (\"Null Values in each column:\\n\", \n",
    "       missing_data.sort_values(by ='Total missing', ascending = False))"
   ]
  },
  {
   "cell_type": "code",
   "execution_count": 5,
   "id": "14a93c2b",
   "metadata": {},
   "outputs": [
    {
     "data": {
      "text/html": [
       "<style type=\"text/css\">\n",
       "#T_7836c_row0_col0, #T_7836c_row1_col1 {\n",
       "  background-color: #0000ff;\n",
       "  color: #f1f1f1;\n",
       "}\n",
       "#T_7836c_row0_col1, #T_7836c_row1_col0 {\n",
       "  background-color: #00ff80;\n",
       "  color: #000000;\n",
       "}\n",
       "</style>\n",
       "<table id=\"T_7836c\">\n",
       "  <thead>\n",
       "    <tr>\n",
       "      <th class=\"blank level0\" >&nbsp;</th>\n",
       "      <th id=\"T_7836c_level0_col0\" class=\"col_heading level0 col0\" >Default</th>\n",
       "      <th id=\"T_7836c_level0_col1\" class=\"col_heading level0 col1\" >ID</th>\n",
       "    </tr>\n",
       "  </thead>\n",
       "  <tbody>\n",
       "    <tr>\n",
       "      <th id=\"T_7836c_level0_row0\" class=\"row_heading level0 row0\" >0</th>\n",
       "      <td id=\"T_7836c_row0_col0\" class=\"data row0 col0\" >0</td>\n",
       "      <td id=\"T_7836c_row0_col1\" class=\"data row0 col1\" >112011</td>\n",
       "    </tr>\n",
       "    <tr>\n",
       "      <th id=\"T_7836c_level0_row1\" class=\"row_heading level0 row1\" >1</th>\n",
       "      <td id=\"T_7836c_row1_col0\" class=\"data row1 col0\" >1</td>\n",
       "      <td id=\"T_7836c_row1_col1\" class=\"data row1 col1\" >9845</td>\n",
       "    </tr>\n",
       "  </tbody>\n",
       "</table>\n"
      ],
      "text/plain": [
       "<pandas.io.formats.style.Styler at 0x1f56869cd10>"
      ]
     },
     "execution_count": 5,
     "metadata": {},
     "output_type": "execute_result"
    }
   ],
   "source": [
    "class_df = df_train.groupby('Default').count()['ID'].reset_index().sort_values(by='ID',ascending=False)\n",
    "class_df.style.background_gradient(cmap='winter')"
   ]
  },
  {
   "cell_type": "code",
   "execution_count": 6,
   "id": "46e15c1e",
   "metadata": {},
   "outputs": [
    {
     "name": "stdout",
     "output_type": "stream",
     "text": [
      "[nan  0.  6. 10. 14.  1.  3.  2.  7. 15. 31. 16. 13. 64.  8. 20. 17.  4.\n",
      " 18. 22.  9.  5. 23. 12. 32. 27. 50. 19. 29. 24. 65. 11. 25. 26. 30. 28.\n",
      " 39. 21. 44. 35. 33. 37. 40. 36. 34. 41. 57. 45. 38. 43. 63. 42. 54. 49.\n",
      " 69. 46.]\n",
      "[nan  6.  7.  4.  3. 15. 17. 14. 12. 10.  1.  5. 18.  0.  2. 11.  9.  8.\n",
      " 23. 16. 25. 13. 37. 21. 24. 65. 64. 28. 22. 20. 19. 27. 26. 34. 32. 29.\n",
      " 31. 30. 39. 46. 40. 36. 33. 41. 35. 45. 42. 38. 43. 44. 49. 63. 54. 55.\n",
      " 51.]\n"
     ]
    }
   ],
   "source": [
    "train_null_unique= df_train.Own_House_Age.unique()\n",
    "test_null_unique= df_test.Own_House_Age.unique()\n",
    "print(train_null_unique)\n",
    "print (test_null_unique)"
   ]
  },
  {
   "cell_type": "code",
   "execution_count": 7,
   "id": "2a0fb00a",
   "metadata": {},
   "outputs": [
    {
     "data": {
      "image/png": "[encoded data removed]",
      "text/plain": [
       "<Figure size 1200x600 with 1 Axes>"
      ]
     },
     "metadata": {},
     "output_type": "display_data"
    },
    {
     "name": "stdout",
     "output_type": "stream",
     "text": [
      "% of no defaults       : 91.92079175420169\n",
      "Number of no defaults     : 112011\n",
      "% of defaults         : 8.07920824579832\n",
      "Number of defaults    : 9845\n"
     ]
    }
   ],
   "source": [
    "#Graph\n",
    "my_pal = {0: 'deepskyblue', 1: 'deeppink'}\n",
    "\n",
    "plt.figure(figsize = (12, 6))\n",
    "ax = sns.countplot(x = 'Default', data = df_train, palette = my_pal)\n",
    "plt.title('Class Distribution')\n",
    "plt.show()\n",
    "\n",
    "# Count and %\n",
    "Count_Normal_transacation = len(df_train[df_train['Default']==0])\n",
    "Count_Fraud_transacation = len(df_train[df_train['Default']==1]) \n",
    "Percentage_of_Normal_transacation = Count_Normal_transacation/(Count_Normal_transacation+Count_Fraud_transacation)\n",
    "print('% of no defaults       :', Percentage_of_Normal_transacation*100)\n",
    "print('Number of no defaults     :', Count_Normal_transacation)\n",
    "Percentage_of_Fraud_transacation= Count_Fraud_transacation/(Count_Normal_transacation+Count_Fraud_transacation)\n",
    "print('% of defaults         :',Percentage_of_Fraud_transacation*100)\n",
    "print('Number of defaults    :', Count_Fraud_transacation)"
   ]
  },
  {
   "cell_type": "markdown",
   "id": "696c6d80",
   "metadata": {},
   "source": [
    "# Highly skewed distribution with 8% defaults and 92% no defaults, so a naive model which predicts no default for all records will have 92% accuracy"
   ]
  },
  {
   "cell_type": "code",
   "execution_count": 8,
   "id": "94f99b0d",
   "metadata": {},
   "outputs": [],
   "source": [
    "# Plot distribution of one feature\n",
    "def plot_distribution(feature,color):\n",
    "    plt.figure(figsize=(10,6))\n",
    "    plt.title(\"Distribution of %s\" % feature)\n",
    "    sns.distplot(df_train[feature].dropna(),color=color, kde=True,bins=100)\n",
    "    plt.show()\n",
    "    \n",
    "# Plot distribution of multiple features, with TARGET = 1/0 on the same graph\n",
    "def plot_distribution_comp(var,nrow=2):\n",
    "    \n",
    "    i = 0\n",
    "    t1 = df_train.loc[df_train['Default'] != 0]\n",
    "    t0 = df_train.loc[df_train['Default'] == 0]\n",
    "\n",
    "    sns.set_style('whitegrid')\n",
    "    plt.figure()\n",
    "    fig, ax = plt.subplots(nrow,2,figsize=(12,6*nrow))\n",
    "\n",
    "    for feature in var:\n",
    "        i += 1\n",
    "        plt.subplot(nrow,2,i)\n",
    "        sns.kdeplot(t1[feature], bw=0.5,label=\"Default = 1\")\n",
    "        sns.kdeplot(t0[feature], bw=0.5,label=\"Default = 0\")\n",
    "        plt.ylabel('Density plot', fontsize=12)\n",
    "        plt.xlabel(feature, fontsize=12)\n",
    "        locs, labels = plt.xticks()\n",
    "        plt.tick_params(axis='both', which='major', labelsize=12)\n",
    "    plt.show();\n"
   ]
  },
  {
   "cell_type": "code",
   "execution_count": 9,
   "id": "e82bb95f",
   "metadata": {},
   "outputs": [],
   "source": [
    "def plot_bar_comp(var,nrow=2):\n",
    "    \n",
    "    i = 0\n",
    "    sns.set_style('whitegrid')\n",
    "    plt.figure()\n",
    "    fig, ax = plt.subplots(nrow,2,figsize=(12,6*nrow))\n",
    "\n",
    "    for feature in var:\n",
    "        i += 1\n",
    "        plt.subplot(nrow,2,i)\n",
    "        sns.countplot(df_train[feature])\n",
    "        sns.countplot(df_train[feature])\n",
    "        plt.ylabel('Count plot', fontsize=12)\n",
    "        plt.xlabel(feature, fontsize=12)\n",
    "        locs, labels = plt.xticks()\n",
    "        plt.tick_params(axis='both', which='major', labelsize=12)\n",
    "    plt.show();"
   ]
  },
  {
   "cell_type": "code",
   "execution_count": 10,
   "id": "84115971",
   "metadata": {},
   "outputs": [],
   "source": [
    "# Box Plot for one feature\n",
    "def plot_box(feature, color):\n",
    "    plt.figure(figsize=(10,6))\n",
    "    plt.title(\"Box Plot of %s\" % feature)\n",
    "    sns.boxplot(y=df_train[feature].dropna(),x= df_train.Default,color=color)\n",
    "    plt.show()"
   ]
  },
  {
   "cell_type": "code",
   "execution_count": 11,
   "id": "64053948",
   "metadata": {},
   "outputs": [],
   "source": [
    "# Bar Plot for one feature\n",
    "def plot_bar(feature):\n",
    "    plt.figure(figsize=(10,50))\n",
    "    sns.catplot(y=feature, hue=\"Default\", kind=\"count\",\n",
    "            palette=\"pastel\", edgecolor=\".6\",\n",
    "            data=df_train);"
   ]
  },
  {
   "cell_type": "code",
   "execution_count": 12,
   "id": "6e43100e",
   "metadata": {},
   "outputs": [
    {
     "name": "stdout",
     "output_type": "stream",
     "text": [
      "count    41761.000000\n",
      "mean        12.157324\n",
      "std         12.056079\n",
      "min          0.000000\n",
      "25%          5.000000\n",
      "50%          9.000000\n",
      "75%         15.000000\n",
      "max         69.000000\n",
      "Name: Own_House_Age, dtype: float64\n"
     ]
    },
    {
     "data": {
      "image/png": "[encoded data removed]",
      "text/plain": [
       "<Figure size 1000x600 with 1 Axes>"
      ]
     },
     "metadata": {},
     "output_type": "display_data"
    }
   ],
   "source": [
    "print(df_train.Own_House_Age.describe())\n",
    "plot_distribution('Own_House_Age','green')"
   ]
  },
  {
   "cell_type": "code",
   "execution_count": 13,
   "id": "9b66c783",
   "metadata": {},
   "outputs": [
    {
     "data": {
      "image/png": "[encoded data removed]",
      "text/plain": [
       "<Figure size 1000x600 with 1 Axes>"
      ]
     },
     "metadata": {},
     "output_type": "display_data"
    }
   ],
   "source": [
    "plot_box(\"Own_House_Age\", \"green\")"
   ]
  },
  {
   "cell_type": "code",
   "execution_count": 14,
   "id": "6fbdcbfc",
   "metadata": {},
   "outputs": [
    {
     "name": "stdout",
     "output_type": "stream",
     "text": [
      "No. of observations in column:  121856\n",
      "Statistics: Mean=12.157, Std dev=12.056\n",
      "Identified outliers: 1379\n"
     ]
    }
   ],
   "source": [
    "#Number of observations in column\n",
    "obs = len(df_train.Own_House_Age)\n",
    "print(\"No. of observations in column: \",obs)\n",
    "\n",
    "# calculate summary statistics\n",
    "data_mean, data_std = mean(df_train.Own_House_Age), std(df_train.Own_House_Age)\n",
    "print('Statistics: Mean=%.3f, Std dev=%.3f' % (data_mean, data_std))\n",
    "# identify outliers\n",
    "cut_off = data_std * 3\n",
    "lower, upper = data_mean - cut_off, data_mean + cut_off\n",
    "# identify outliers\n",
    "outliers = [x for x in df_train.Own_House_Age if x < lower or x > upper]\n",
    "print('Identified outliers: %d' % len(outliers))"
   ]
  },
  {
   "cell_type": "code",
   "execution_count": 15,
   "id": "3abf77b6",
   "metadata": {},
   "outputs": [
    {
     "name": "stdout",
     "output_type": "stream",
     "text": [
      "No. of observations in column:  121856\n"
     ]
    }
   ],
   "source": [
    "def impute_outlier(x):\n",
    "    if x <= lower:\n",
    "        return(data_mean)\n",
    "    elif x>= (upper):\n",
    "        return(data_mean)\n",
    "    else:\n",
    "        return(x)\n",
    "df_train[\"Own_House_Age_new\"]= df_train[\"Own_House_Age\"].apply(impute_outlier)\n",
    "print(\"No. of observations in column: \",len(df_train.Own_House_Age_new))"
   ]
  },
  {
   "cell_type": "code",
   "execution_count": 16,
   "id": "b323bac9",
   "metadata": {},
   "outputs": [
    {
     "name": "stdout",
     "output_type": "stream",
     "text": [
      "No. of observations in column:  121856\n"
     ]
    }
   ],
   "source": [
    "def impute_missing(x):\n",
    "    if x == np.nan:\n",
    "        return(median(x))\n",
    "    else:\n",
    "        return(x)\n",
    "\n",
    "df_train[\"Own_House_Age_new\"]= df_train[\"Own_House_Age\"].apply(impute_missing)\n",
    "print(\"No. of observations in column: \",len(df_train.Own_House_Age_new))"
   ]
  },
  {
   "cell_type": "code",
   "execution_count": 17,
   "id": "edb63686",
   "metadata": {},
   "outputs": [
    {
     "data": {
      "text/plain": [
       "Own_House_Age_bins\n",
       "Low        11384\n",
       "High       10351\n",
       "Extreme    10131\n",
       "Medium      9895\n",
       "Name: count, dtype: int64"
      ]
     },
     "execution_count": 17,
     "metadata": {},
     "output_type": "execute_result"
    }
   ],
   "source": [
    "bin_labels = ['Low', 'Medium', 'High', 'Extreme']\n",
    "df_train['Own_House_Age_bins'] = pd.qcut(df_train['Own_House_Age'],\n",
    "                              q=[0, .25, .5, .75, 1],\n",
    "                              labels=bin_labels)\n",
    "df_train['Own_House_Age_bins'].value_counts()"
   ]
  },
  {
   "cell_type": "code",
   "execution_count": 18,
   "id": "2a8cf9c7",
   "metadata": {},
   "outputs": [
    {
     "data": {
      "text/plain": [
       "<Figure size 1000x5000 with 0 Axes>"
      ]
     },
     "metadata": {},
     "output_type": "display_data"
    },
    {
     "data": {
      "image/png": "[encoded data removed]",
      "text/plain": [
       "<Figure size 562.111x500 with 1 Axes>"
      ]
     },
     "metadata": {},
     "output_type": "display_data"
    }
   ],
   "source": [
    "plot_bar(\"Own_House_Age_bins\")"
   ]
  },
  {
   "cell_type": "markdown",
   "id": "75ff2135",
   "metadata": {},
   "source": [
    "# There is a tendency to default more of the age of the house is more based on above chart"
   ]
  },
  {
   "cell_type": "code",
   "execution_count": 19,
   "id": "0c105246",
   "metadata": {},
   "outputs": [
    {
     "name": "stdout",
     "output_type": "stream",
     "text": [
      "count                53021.0\n",
      "mean      0.5012129250527902\n",
      "std      0.21120444861128987\n",
      "min              0.014568132\n",
      "25%              0.333480523\n",
      "50%              0.504656688\n",
      "75%              0.673890059\n",
      "max              0.945741288\n",
      "Name: Score_Source_1, dtype: object\n"
     ]
    },
    {
     "data": {
      "image/png": "[encoded data removed]",
      "text/plain": [
       "<Figure size 1000x600 with 1 Axes>"
      ]
     },
     "metadata": {},
     "output_type": "display_data"
    }
   ],
   "source": [
    "print(df_train.Score_Source_1.describe().astype(str))\n",
    "plot_distribution('Score_Source_1','tomato')"
   ]
  },
  {
   "cell_type": "code",
   "execution_count": 20,
   "id": "1612899e",
   "metadata": {},
   "outputs": [
    {
     "data": {
      "image/png": "[encoded data removed]",
      "text/plain": [
       "<Figure size 1000x600 with 1 Axes>"
      ]
     },
     "metadata": {},
     "output_type": "display_data"
    }
   ],
   "source": [
    "plot_box(\"Score_Source_1\", \"tomato\")"
   ]
  },
  {
   "cell_type": "markdown",
   "id": "8f00e594",
   "metadata": {},
   "source": [
    "# There are no outliers, so we just need to replace the missing values with median as the distribution is nearly normal"
   ]
  },
  {
   "cell_type": "code",
   "execution_count": 21,
   "id": "aac6d68d",
   "metadata": {},
   "outputs": [
    {
     "name": "stdout",
     "output_type": "stream",
     "text": [
      "No. of observations in column:  121856\n"
     ]
    }
   ],
   "source": [
    "df_train[\"Score_Source_1_new\"]= df_train[\"Score_Source_1\"].apply(impute_missing)\n",
    "print(\"No. of observations in column: \",len(df_train.Score_Source_1_new))"
   ]
  },
  {
   "cell_type": "code",
   "execution_count": 22,
   "id": "912adf3a",
   "metadata": {},
   "outputs": [
    {
     "data": {
      "text/plain": [
       "Score_Source_1_bins\n",
       "Low        13257\n",
       "High       13257\n",
       "Medium     13254\n",
       "Extreme    13253\n",
       "Name: count, dtype: int64"
      ]
     },
     "execution_count": 22,
     "metadata": {},
     "output_type": "execute_result"
    }
   ],
   "source": [
    "bin_labels = ['Low', 'Medium', 'High', 'Extreme']\n",
    "df_train['Score_Source_1_bins'] = pd.qcut(df_train['Score_Source_1'],\n",
    "                              q=[0, .25, .5, .75, 1],\n",
    "                              labels=bin_labels)\n",
    "df_train['Score_Source_1_bins'].value_counts()"
   ]
  },
  {
   "cell_type": "code",
   "execution_count": 23,
   "id": "342f0a2f",
   "metadata": {},
   "outputs": [
    {
     "data": {
      "text/plain": [
       "<Figure size 1000x5000 with 0 Axes>"
      ]
     },
     "metadata": {},
     "output_type": "display_data"
    },
    {
     "data": {
      "image/png": "[encoded data removed]",
      "text/plain": [
       "<Figure size 562.111x500 with 1 Axes>"
      ]
     },
     "metadata": {},
     "output_type": "display_data"
    }
   ],
   "source": [
    "plot_bar(\"Score_Source_1_bins\")"
   ]
  },
  {
   "cell_type": "markdown",
   "id": "b4e0e95a",
   "metadata": {},
   "source": [
    "# There is a tendency to default more at lower scores than higher scores"
   ]
  },
  {
   "cell_type": "code",
   "execution_count": 24,
   "id": "972e9972",
   "metadata": {},
   "outputs": [
    {
     "name": "stdout",
     "output_type": "stream",
     "text": [
      "count                59928.0\n",
      "mean     0.11742785509277799\n",
      "std      0.10797382393875432\n",
      "min                      0.0\n",
      "25%                   0.0577\n",
      "50%                   0.0887\n",
      "75%                   0.1485\n",
      "max                      1.0\n",
      "Name: Social_Circle_Default, dtype: object\n"
     ]
    },
    {
     "data": {
      "image/png": "[encoded data removed]",
      "text/plain": [
       "<Figure size 1000x600 with 1 Axes>"
      ]
     },
     "metadata": {},
     "output_type": "display_data"
    }
   ],
   "source": [
    "print(df_train.Social_Circle_Default.describe().astype(str))\n",
    "plot_distribution('Social_Circle_Default','tomato')"
   ]
  },
  {
   "cell_type": "code",
   "execution_count": 25,
   "id": "627d7807",
   "metadata": {},
   "outputs": [
    {
     "data": {
      "image/png": "[encoded data removed]",
      "text/plain": [
       "<Figure size 1000x600 with 1 Axes>"
      ]
     },
     "metadata": {},
     "output_type": "display_data"
    }
   ],
   "source": [
    "plot_box(\"Social_Circle_Default\", \"tomato\")"
   ]
  },
  {
   "cell_type": "code",
   "execution_count": 26,
   "id": "b0b37e31",
   "metadata": {},
   "outputs": [
    {
     "name": "stdout",
     "output_type": "stream",
     "text": [
      "No. of observations in column:  121856\n"
     ]
    }
   ],
   "source": [
    "df_train[\"Social_Circle_Default_new\"]= df_train[\"Social_Circle_Default\"].apply(impute_missing)\n",
    "print(\"No. of observations in column: \",len(df_train.Social_Circle_Default_new))"
   ]
  },
  {
   "cell_type": "code",
   "execution_count": 27,
   "id": "a87e3889",
   "metadata": {},
   "outputs": [
    {
     "data": {
      "text/plain": [
       "Social_Circle_Default\n",
       "High       15826\n",
       "Low        15112\n",
       "Medium     14963\n",
       "Extreme    14027\n",
       "Name: count, dtype: int64"
      ]
     },
     "execution_count": 27,
     "metadata": {},
     "output_type": "execute_result"
    }
   ],
   "source": [
    "bin_labels = ['Low', 'Medium', 'High', 'Extreme']\n",
    "df_train['Social_Circle_Default'] = pd.qcut(df_train['Social_Circle_Default'],\n",
    "                              q=[0, .25, .5, .75, 1],\n",
    "                              labels=bin_labels)\n",
    "df_train['Social_Circle_Default'].value_counts()"
   ]
  },
  {
   "cell_type": "code",
   "execution_count": 28,
   "id": "5693941b",
   "metadata": {},
   "outputs": [
    {
     "data": {
      "text/plain": [
       "<Figure size 1000x5000 with 0 Axes>"
      ]
     },
     "metadata": {},
     "output_type": "display_data"
    },
    {
     "data": {
      "image/png": "[encoded data removed]",
      "text/plain": [
       "<Figure size 562.111x500 with 1 Axes>"
      ]
     },
     "metadata": {},
     "output_type": "display_data"
    }
   ],
   "source": [
    "plot_bar(\"Social_Circle_Default\");"
   ]
  },
  {
   "cell_type": "markdown",
   "id": "61733f04",
   "metadata": {},
   "source": [
    "# Lower social circle score has more probability of default"
   ]
  },
  {
   "cell_type": "code",
   "execution_count": 29,
   "id": "53a4da5b",
   "metadata": {},
   "outputs": [
    {
     "data": {
      "text/plain": [
       "<seaborn.axisgrid.FacetGrid at 0x1f57efbf790>"
      ]
     },
     "execution_count": 29,
     "metadata": {},
     "output_type": "execute_result"
    },
    {
     "data": {
      "image/png": "[encoded data removed]",
      "text/plain": [
       "<Figure size 562.111x500 with 1 Axes>"
      ]
     },
     "metadata": {},
     "output_type": "display_data"
    }
   ],
   "source": [
    "sns.catplot(data=df_train,kind='count',x='Client_Income_Type',hue='Default')"
   ]
  },
  {
   "cell_type": "code",
   "execution_count": 30,
   "id": "6edf99d1",
   "metadata": {},
   "outputs": [
    {
     "data": {
      "text/plain": [
       "<seaborn.axisgrid.FacetGrid at 0x1f50060f010>"
      ]
     },
     "execution_count": 30,
     "metadata": {},
     "output_type": "execute_result"
    },
    {
     "data": {
      "image/png": "[encoded data removed]",
      "text/plain": [
       "<Figure size 562.111x500 with 1 Axes>"
      ]
     },
     "metadata": {},
     "output_type": "display_data"
    }
   ],
   "source": [
    "sns.catplot(data=df_train,kind='count',x='Accompany_Client',hue='Default')"
   ]
  },
  {
   "cell_type": "markdown",
   "id": "21c0e93e",
   "metadata": {},
   "source": [
    "# People who came alonetend to default more"
   ]
  },
  {
   "cell_type": "code",
   "execution_count": 31,
   "id": "f6ea6291",
   "metadata": {},
   "outputs": [
    {
     "data": {
      "text/html": [
       "<div>\n",
       "<style scoped>\n",
       "    .dataframe tbody tr th:only-of-type {\n",
       "        vertical-align: middle;\n",
       "    }\n",
       "\n",
       "    .dataframe tbody tr th {\n",
       "        vertical-align: top;\n",
       "    }\n",
       "\n",
       "    .dataframe thead th {\n",
       "        text-align: right;\n",
       "    }\n",
       "</style>\n",
       "<table border=\"1\" class=\"dataframe\">\n",
       "  <thead>\n",
       "    <tr style=\"text-align: right;\">\n",
       "      <th></th>\n",
       "      <th>ID</th>\n",
       "      <th>Client_Income</th>\n",
       "      <th>Car_Owned</th>\n",
       "      <th>Bike_Owned</th>\n",
       "      <th>Active_Loan</th>\n",
       "      <th>House_Own</th>\n",
       "      <th>Child_Count</th>\n",
       "      <th>Credit_Amount</th>\n",
       "      <th>Loan_Annuity</th>\n",
       "      <th>Accompany_Client</th>\n",
       "      <th>Client_Income_Type</th>\n",
       "      <th>Client_Education</th>\n",
       "      <th>Client_Marital_Status</th>\n",
       "      <th>Client_Gender</th>\n",
       "      <th>Loan_Contract_Type</th>\n",
       "      <th>Client_Housing_Type</th>\n",
       "      <th>Population_Region_Relative</th>\n",
       "      <th>Age_Days</th>\n",
       "      <th>Employed_Days</th>\n",
       "      <th>Registration_Days</th>\n",
       "      <th>ID_Days</th>\n",
       "      <th>Own_House_Age</th>\n",
       "      <th>Mobile_Tag</th>\n",
       "      <th>Homephone_Tag</th>\n",
       "      <th>Workphone_Working</th>\n",
       "      <th>Client_Occupation</th>\n",
       "      <th>Client_Family_Members</th>\n",
       "      <th>Cleint_City_Rating</th>\n",
       "      <th>Application_Process_Day</th>\n",
       "      <th>Application_Process_Hour</th>\n",
       "      <th>Client_Permanent_Match_Tag</th>\n",
       "      <th>Client_Contact_Work_Tag</th>\n",
       "      <th>Type_Organization</th>\n",
       "      <th>Score_Source_1</th>\n",
       "      <th>Score_Source_2</th>\n",
       "      <th>Score_Source_3</th>\n",
       "      <th>Social_Circle_Default</th>\n",
       "      <th>Phone_Change</th>\n",
       "      <th>Credit_Bureau</th>\n",
       "      <th>Default</th>\n",
       "      <th>Own_House_Age_new</th>\n",
       "      <th>Own_House_Age_bins</th>\n",
       "      <th>Score_Source_1_new</th>\n",
       "      <th>Score_Source_1_bins</th>\n",
       "      <th>Social_Circle_Default_new</th>\n",
       "    </tr>\n",
       "  </thead>\n",
       "  <tbody>\n",
       "    <tr>\n",
       "      <th>0</th>\n",
       "      <td>12142509</td>\n",
       "      <td>6750</td>\n",
       "      <td>0.0</td>\n",
       "      <td>0.0</td>\n",
       "      <td>1.0</td>\n",
       "      <td>0.0</td>\n",
       "      <td>0.0</td>\n",
       "      <td>61190.55</td>\n",
       "      <td>3416.85</td>\n",
       "      <td>Alone</td>\n",
       "      <td>Commercial</td>\n",
       "      <td>Secondary</td>\n",
       "      <td>M</td>\n",
       "      <td>Male</td>\n",
       "      <td>CL</td>\n",
       "      <td>Home</td>\n",
       "      <td>0.028663</td>\n",
       "      <td>13957</td>\n",
       "      <td>1062</td>\n",
       "      <td>6123</td>\n",
       "      <td>383</td>\n",
       "      <td>NaN</td>\n",
       "      <td>1</td>\n",
       "      <td>1</td>\n",
       "      <td>0</td>\n",
       "      <td>Sales</td>\n",
       "      <td>2.0</td>\n",
       "      <td>2.0</td>\n",
       "      <td>6.0</td>\n",
       "      <td>17.0</td>\n",
       "      <td>Yes</td>\n",
       "      <td>Yes</td>\n",
       "      <td>Self-employed</td>\n",
       "      <td>0.568066</td>\n",
       "      <td>0.478787</td>\n",
       "      <td>NaN</td>\n",
       "      <td>Low</td>\n",
       "      <td>63.0</td>\n",
       "      <td>NaN</td>\n",
       "      <td>0</td>\n",
       "      <td>NaN</td>\n",
       "      <td>NaN</td>\n",
       "      <td>0.568066</td>\n",
       "      <td>High</td>\n",
       "      <td>0.0186</td>\n",
       "    </tr>\n",
       "    <tr>\n",
       "      <th>1</th>\n",
       "      <td>12138936</td>\n",
       "      <td>20250</td>\n",
       "      <td>1.0</td>\n",
       "      <td>0.0</td>\n",
       "      <td>1.0</td>\n",
       "      <td>NaN</td>\n",
       "      <td>0.0</td>\n",
       "      <td>15282</td>\n",
       "      <td>1826.55</td>\n",
       "      <td>Alone</td>\n",
       "      <td>Service</td>\n",
       "      <td>Graduation</td>\n",
       "      <td>M</td>\n",
       "      <td>Male</td>\n",
       "      <td>CL</td>\n",
       "      <td>Home</td>\n",
       "      <td>0.008575</td>\n",
       "      <td>14162</td>\n",
       "      <td>4129</td>\n",
       "      <td>7833</td>\n",
       "      <td>21</td>\n",
       "      <td>0.0</td>\n",
       "      <td>1</td>\n",
       "      <td>0</td>\n",
       "      <td>1</td>\n",
       "      <td>NaN</td>\n",
       "      <td>2.0</td>\n",
       "      <td>2.0</td>\n",
       "      <td>3.0</td>\n",
       "      <td>10.0</td>\n",
       "      <td>Yes</td>\n",
       "      <td>Yes</td>\n",
       "      <td>Government</td>\n",
       "      <td>0.563360</td>\n",
       "      <td>0.215068</td>\n",
       "      <td>NaN</td>\n",
       "      <td>NaN</td>\n",
       "      <td>NaN</td>\n",
       "      <td>NaN</td>\n",
       "      <td>0</td>\n",
       "      <td>0.0</td>\n",
       "      <td>Low</td>\n",
       "      <td>0.563360</td>\n",
       "      <td>High</td>\n",
       "      <td>NaN</td>\n",
       "    </tr>\n",
       "    <tr>\n",
       "      <th>2</th>\n",
       "      <td>12181264</td>\n",
       "      <td>18000</td>\n",
       "      <td>0.0</td>\n",
       "      <td>0.0</td>\n",
       "      <td>1.0</td>\n",
       "      <td>0.0</td>\n",
       "      <td>1.0</td>\n",
       "      <td>59527.35</td>\n",
       "      <td>2788.2</td>\n",
       "      <td>Alone</td>\n",
       "      <td>Service</td>\n",
       "      <td>Graduation dropout</td>\n",
       "      <td>W</td>\n",
       "      <td>Male</td>\n",
       "      <td>CL</td>\n",
       "      <td>Family</td>\n",
       "      <td>0.0228</td>\n",
       "      <td>16790</td>\n",
       "      <td>5102</td>\n",
       "      <td>NaN</td>\n",
       "      <td>331</td>\n",
       "      <td>NaN</td>\n",
       "      <td>1</td>\n",
       "      <td>0</td>\n",
       "      <td>0</td>\n",
       "      <td>Realty agents</td>\n",
       "      <td>2.0</td>\n",
       "      <td>2.0</td>\n",
       "      <td>4.0</td>\n",
       "      <td>NaN</td>\n",
       "      <td>Yes</td>\n",
       "      <td>Yes</td>\n",
       "      <td>Self-employed</td>\n",
       "      <td>NaN</td>\n",
       "      <td>0.552795</td>\n",
       "      <td>0.329655054</td>\n",
       "      <td>Medium</td>\n",
       "      <td>277.0</td>\n",
       "      <td>0.0</td>\n",
       "      <td>0</td>\n",
       "      <td>NaN</td>\n",
       "      <td>NaN</td>\n",
       "      <td>NaN</td>\n",
       "      <td>NaN</td>\n",
       "      <td>0.0742</td>\n",
       "    </tr>\n",
       "    <tr>\n",
       "      <th>3</th>\n",
       "      <td>12188929</td>\n",
       "      <td>15750</td>\n",
       "      <td>0.0</td>\n",
       "      <td>0.0</td>\n",
       "      <td>1.0</td>\n",
       "      <td>1.0</td>\n",
       "      <td>0.0</td>\n",
       "      <td>53870.4</td>\n",
       "      <td>2295.45</td>\n",
       "      <td>Alone</td>\n",
       "      <td>Retired</td>\n",
       "      <td>Secondary</td>\n",
       "      <td>M</td>\n",
       "      <td>Male</td>\n",
       "      <td>CL</td>\n",
       "      <td>Home</td>\n",
       "      <td>0.010556</td>\n",
       "      <td>23195</td>\n",
       "      <td>365243</td>\n",
       "      <td>NaN</td>\n",
       "      <td>775</td>\n",
       "      <td>NaN</td>\n",
       "      <td>1</td>\n",
       "      <td>0</td>\n",
       "      <td>0</td>\n",
       "      <td>NaN</td>\n",
       "      <td>2.0</td>\n",
       "      <td>3.0</td>\n",
       "      <td>2.0</td>\n",
       "      <td>15.0</td>\n",
       "      <td>Yes</td>\n",
       "      <td>Yes</td>\n",
       "      <td>XNA</td>\n",
       "      <td>NaN</td>\n",
       "      <td>0.135182</td>\n",
       "      <td>0.631354537</td>\n",
       "      <td>NaN</td>\n",
       "      <td>1700.0</td>\n",
       "      <td>3.0</td>\n",
       "      <td>0</td>\n",
       "      <td>NaN</td>\n",
       "      <td>NaN</td>\n",
       "      <td>NaN</td>\n",
       "      <td>NaN</td>\n",
       "      <td>NaN</td>\n",
       "    </tr>\n",
       "    <tr>\n",
       "      <th>4</th>\n",
       "      <td>12133385</td>\n",
       "      <td>33750</td>\n",
       "      <td>1.0</td>\n",
       "      <td>0.0</td>\n",
       "      <td>1.0</td>\n",
       "      <td>0.0</td>\n",
       "      <td>2.0</td>\n",
       "      <td>133988.4</td>\n",
       "      <td>3547.35</td>\n",
       "      <td>Alone</td>\n",
       "      <td>Commercial</td>\n",
       "      <td>Secondary</td>\n",
       "      <td>M</td>\n",
       "      <td>Female</td>\n",
       "      <td>CL</td>\n",
       "      <td>Home</td>\n",
       "      <td>0.020713</td>\n",
       "      <td>11366</td>\n",
       "      <td>2977</td>\n",
       "      <td>5516</td>\n",
       "      <td>4043</td>\n",
       "      <td>6.0</td>\n",
       "      <td>1</td>\n",
       "      <td>0</td>\n",
       "      <td>0</td>\n",
       "      <td>Laborers</td>\n",
       "      <td>4.0</td>\n",
       "      <td>1.0</td>\n",
       "      <td>3.0</td>\n",
       "      <td>NaN</td>\n",
       "      <td>Yes</td>\n",
       "      <td>Yes</td>\n",
       "      <td>Business Entity Type 3</td>\n",
       "      <td>0.508199</td>\n",
       "      <td>0.301182</td>\n",
       "      <td>0.355638717</td>\n",
       "      <td>Extreme</td>\n",
       "      <td>674.0</td>\n",
       "      <td>1.0</td>\n",
       "      <td>0</td>\n",
       "      <td>6.0</td>\n",
       "      <td>Medium</td>\n",
       "      <td>0.508199</td>\n",
       "      <td>High</td>\n",
       "      <td>0.2021</td>\n",
       "    </tr>\n",
       "    <tr>\n",
       "      <th>...</th>\n",
       "      <td>...</td>\n",
       "      <td>...</td>\n",
       "      <td>...</td>\n",
       "      <td>...</td>\n",
       "      <td>...</td>\n",
       "      <td>...</td>\n",
       "      <td>...</td>\n",
       "      <td>...</td>\n",
       "      <td>...</td>\n",
       "      <td>...</td>\n",
       "      <td>...</td>\n",
       "      <td>...</td>\n",
       "      <td>...</td>\n",
       "      <td>...</td>\n",
       "      <td>...</td>\n",
       "      <td>...</td>\n",
       "      <td>...</td>\n",
       "      <td>...</td>\n",
       "      <td>...</td>\n",
       "      <td>...</td>\n",
       "      <td>...</td>\n",
       "      <td>...</td>\n",
       "      <td>...</td>\n",
       "      <td>...</td>\n",
       "      <td>...</td>\n",
       "      <td>...</td>\n",
       "      <td>...</td>\n",
       "      <td>...</td>\n",
       "      <td>...</td>\n",
       "      <td>...</td>\n",
       "      <td>...</td>\n",
       "      <td>...</td>\n",
       "      <td>...</td>\n",
       "      <td>...</td>\n",
       "      <td>...</td>\n",
       "      <td>...</td>\n",
       "      <td>...</td>\n",
       "      <td>...</td>\n",
       "      <td>...</td>\n",
       "      <td>...</td>\n",
       "      <td>...</td>\n",
       "      <td>...</td>\n",
       "      <td>...</td>\n",
       "      <td>...</td>\n",
       "      <td>...</td>\n",
       "    </tr>\n",
       "    <tr>\n",
       "      <th>121851</th>\n",
       "      <td>12207714</td>\n",
       "      <td>29250</td>\n",
       "      <td>0.0</td>\n",
       "      <td>0.0</td>\n",
       "      <td>NaN</td>\n",
       "      <td>1.0</td>\n",
       "      <td>0.0</td>\n",
       "      <td>107820</td>\n",
       "      <td>3165.3</td>\n",
       "      <td>Relative</td>\n",
       "      <td>Service</td>\n",
       "      <td>Secondary</td>\n",
       "      <td>M</td>\n",
       "      <td>Female</td>\n",
       "      <td>CL</td>\n",
       "      <td>Home</td>\n",
       "      <td>0.031329</td>\n",
       "      <td>12889</td>\n",
       "      <td>2863</td>\n",
       "      <td>2661</td>\n",
       "      <td>2943</td>\n",
       "      <td>NaN</td>\n",
       "      <td>1</td>\n",
       "      <td>0</td>\n",
       "      <td>0</td>\n",
       "      <td>Laborers</td>\n",
       "      <td>2.0</td>\n",
       "      <td>2.0</td>\n",
       "      <td>4.0</td>\n",
       "      <td>16.0</td>\n",
       "      <td>Yes</td>\n",
       "      <td>No</td>\n",
       "      <td>Business Entity Type 2</td>\n",
       "      <td>NaN</td>\n",
       "      <td>0.173527</td>\n",
       "      <td>0.184116156</td>\n",
       "      <td>Low</td>\n",
       "      <td>0.0</td>\n",
       "      <td>1.0</td>\n",
       "      <td>1</td>\n",
       "      <td>NaN</td>\n",
       "      <td>NaN</td>\n",
       "      <td>NaN</td>\n",
       "      <td>NaN</td>\n",
       "      <td>0.0577</td>\n",
       "    </tr>\n",
       "    <tr>\n",
       "      <th>121852</th>\n",
       "      <td>12173765</td>\n",
       "      <td>15750</td>\n",
       "      <td>0.0</td>\n",
       "      <td>1.0</td>\n",
       "      <td>1.0</td>\n",
       "      <td>0.0</td>\n",
       "      <td>0.0</td>\n",
       "      <td>104256</td>\n",
       "      <td>3388.05</td>\n",
       "      <td>Alone</td>\n",
       "      <td>Commercial</td>\n",
       "      <td>Graduation</td>\n",
       "      <td>M</td>\n",
       "      <td>Female</td>\n",
       "      <td>CL</td>\n",
       "      <td>Home</td>\n",
       "      <td>0.018209</td>\n",
       "      <td>8648</td>\n",
       "      <td>636</td>\n",
       "      <td>902</td>\n",
       "      <td>1209</td>\n",
       "      <td>NaN</td>\n",
       "      <td>1</td>\n",
       "      <td>1</td>\n",
       "      <td>0</td>\n",
       "      <td>Sales</td>\n",
       "      <td>2.0</td>\n",
       "      <td>3.0</td>\n",
       "      <td>4.0</td>\n",
       "      <td>12.0</td>\n",
       "      <td>Yes</td>\n",
       "      <td>Yes</td>\n",
       "      <td>Self-employed</td>\n",
       "      <td>NaN</td>\n",
       "      <td>0.371559</td>\n",
       "      <td>0.406617437</td>\n",
       "      <td>Medium</td>\n",
       "      <td>4.0</td>\n",
       "      <td>0.0</td>\n",
       "      <td>0</td>\n",
       "      <td>NaN</td>\n",
       "      <td>NaN</td>\n",
       "      <td>NaN</td>\n",
       "      <td>NaN</td>\n",
       "      <td>0.0825</td>\n",
       "    </tr>\n",
       "    <tr>\n",
       "      <th>121853</th>\n",
       "      <td>12103937</td>\n",
       "      <td>8100</td>\n",
       "      <td>0.0</td>\n",
       "      <td>1.0</td>\n",
       "      <td>0.0</td>\n",
       "      <td>1.0</td>\n",
       "      <td>1.0</td>\n",
       "      <td>55107.9</td>\n",
       "      <td>2989.35</td>\n",
       "      <td>Alone</td>\n",
       "      <td>Govt Job</td>\n",
       "      <td>Secondary</td>\n",
       "      <td>M</td>\n",
       "      <td>Male</td>\n",
       "      <td>CL</td>\n",
       "      <td>Home</td>\n",
       "      <td>0.008068</td>\n",
       "      <td>9152</td>\n",
       "      <td>1623</td>\n",
       "      <td>3980</td>\n",
       "      <td>353</td>\n",
       "      <td>NaN</td>\n",
       "      <td>1</td>\n",
       "      <td>0</td>\n",
       "      <td>0</td>\n",
       "      <td>High skill tech</td>\n",
       "      <td>3.0</td>\n",
       "      <td>3.0</td>\n",
       "      <td>5.0</td>\n",
       "      <td>11.0</td>\n",
       "      <td>No</td>\n",
       "      <td>No</td>\n",
       "      <td>Trade: type 6</td>\n",
       "      <td>0.169049</td>\n",
       "      <td>0.048079</td>\n",
       "      <td>NaN</td>\n",
       "      <td>NaN</td>\n",
       "      <td>0.0</td>\n",
       "      <td>NaN</td>\n",
       "      <td>0</td>\n",
       "      <td>NaN</td>\n",
       "      <td>NaN</td>\n",
       "      <td>0.169049</td>\n",
       "      <td>Low</td>\n",
       "      <td>NaN</td>\n",
       "    </tr>\n",
       "    <tr>\n",
       "      <th>121854</th>\n",
       "      <td>12170623</td>\n",
       "      <td>38250</td>\n",
       "      <td>1.0</td>\n",
       "      <td>1.0</td>\n",
       "      <td>0.0</td>\n",
       "      <td>1.0</td>\n",
       "      <td>0.0</td>\n",
       "      <td>45000</td>\n",
       "      <td>2719.35</td>\n",
       "      <td>Alone</td>\n",
       "      <td>Service</td>\n",
       "      <td>Graduation</td>\n",
       "      <td>M</td>\n",
       "      <td>Female</td>\n",
       "      <td>CL</td>\n",
       "      <td>Home</td>\n",
       "      <td>0.028663</td>\n",
       "      <td>10290</td>\n",
       "      <td>847</td>\n",
       "      <td>895</td>\n",
       "      <td>2902</td>\n",
       "      <td>4.0</td>\n",
       "      <td>1</td>\n",
       "      <td>0</td>\n",
       "      <td>0</td>\n",
       "      <td>Sales</td>\n",
       "      <td>2.0</td>\n",
       "      <td>2.0</td>\n",
       "      <td>1.0</td>\n",
       "      <td>12.0</td>\n",
       "      <td>Yes</td>\n",
       "      <td>Yes</td>\n",
       "      <td>Business Entity Type 3</td>\n",
       "      <td>0.182737</td>\n",
       "      <td>0.103538</td>\n",
       "      <td>0.077498546</td>\n",
       "      <td>High</td>\n",
       "      <td>0.0</td>\n",
       "      <td>2.0</td>\n",
       "      <td>0</td>\n",
       "      <td>4.0</td>\n",
       "      <td>Low</td>\n",
       "      <td>0.182737</td>\n",
       "      <td>Low</td>\n",
       "      <td>0.0979</td>\n",
       "    </tr>\n",
       "    <tr>\n",
       "      <th>121855</th>\n",
       "      <td>12105610</td>\n",
       "      <td>9000</td>\n",
       "      <td>1.0</td>\n",
       "      <td>1.0</td>\n",
       "      <td>1.0</td>\n",
       "      <td>1.0</td>\n",
       "      <td>1.0</td>\n",
       "      <td>62428.95</td>\n",
       "      <td>4201.65</td>\n",
       "      <td>Alone</td>\n",
       "      <td>Commercial</td>\n",
       "      <td>Secondary</td>\n",
       "      <td>S</td>\n",
       "      <td>Male</td>\n",
       "      <td>CL</td>\n",
       "      <td>Home</td>\n",
       "      <td>0.018029</td>\n",
       "      <td>14772</td>\n",
       "      <td>498</td>\n",
       "      <td>8679</td>\n",
       "      <td>5025</td>\n",
       "      <td>6.0</td>\n",
       "      <td>1</td>\n",
       "      <td>0</td>\n",
       "      <td>0</td>\n",
       "      <td>Managers</td>\n",
       "      <td>2.0</td>\n",
       "      <td>3.0</td>\n",
       "      <td>4.0</td>\n",
       "      <td>6.0</td>\n",
       "      <td>Yes</td>\n",
       "      <td>Yes</td>\n",
       "      <td>Business Entity Type 3</td>\n",
       "      <td>NaN</td>\n",
       "      <td>0.556414</td>\n",
       "      <td>0.29859499</td>\n",
       "      <td>High</td>\n",
       "      <td>805.0</td>\n",
       "      <td>0.0</td>\n",
       "      <td>0</td>\n",
       "      <td>6.0</td>\n",
       "      <td>Medium</td>\n",
       "      <td>NaN</td>\n",
       "      <td>NaN</td>\n",
       "      <td>0.1031</td>\n",
       "    </tr>\n",
       "  </tbody>\n",
       "</table>\n",
       "<p>121856 rows × 45 columns</p>\n",
       "</div>"
      ],
      "text/plain": [
       "              ID Client_Income  Car_Owned  Bike_Owned  Active_Loan  House_Own  Child_Count Credit_Amount Loan_Annuity Accompany_Client Client_Income_Type    Client_Education Client_Marital_Status Client_Gender Loan_Contract_Type Client_Housing_Type Population_Region_Relative Age_Days Employed_Days Registration_Days ID_Days  Own_House_Age  Mobile_Tag  Homephone_Tag  Workphone_Working Client_Occupation  Client_Family_Members  Cleint_City_Rating  Application_Process_Day  Application_Process_Hour Client_Permanent_Match_Tag Client_Contact_Work_Tag       Type_Organization  Score_Source_1  Score_Source_2 Score_Source_3 Social_Circle_Default  Phone_Change  Credit_Bureau  Default  Own_House_Age_new Own_House_Age_bins  Score_Source_1_new Score_Source_1_bins  Social_Circle_Default_new\n",
       "0       12142509          6750        0.0         0.0          1.0        0.0          0.0      61190.55      3416.85            Alone         Commercial           Secondary                     M          Male                 CL                Home                   0.028663    13957          1062              6123     383            NaN           1              1                  0             Sales                    2.0                 2.0                      6.0                      17.0                        Yes                     Yes           Self-employed        0.568066        0.478787            NaN                   Low          63.0            NaN        0                NaN                NaN            0.568066                High                     0.0186\n",
       "1       12138936         20250        1.0         0.0          1.0        NaN          0.0         15282      1826.55            Alone            Service          Graduation                     M          Male                 CL                Home                   0.008575    14162          4129              7833      21            0.0           1              0                  1               NaN                    2.0                 2.0                      3.0                      10.0                        Yes                     Yes              Government        0.563360        0.215068            NaN                   NaN           NaN            NaN        0                0.0                Low            0.563360                High                        NaN\n",
       "2       12181264         18000        0.0         0.0          1.0        0.0          1.0      59527.35       2788.2            Alone            Service  Graduation dropout                     W          Male                 CL              Family                     0.0228    16790          5102               NaN     331            NaN           1              0                  0     Realty agents                    2.0                 2.0                      4.0                       NaN                        Yes                     Yes           Self-employed             NaN        0.552795    0.329655054                Medium         277.0            0.0        0                NaN                NaN                 NaN                 NaN                     0.0742\n",
       "3       12188929         15750        0.0         0.0          1.0        1.0          0.0       53870.4      2295.45            Alone            Retired           Secondary                     M          Male                 CL                Home                   0.010556    23195        365243               NaN     775            NaN           1              0                  0               NaN                    2.0                 3.0                      2.0                      15.0                        Yes                     Yes                     XNA             NaN        0.135182    0.631354537                   NaN        1700.0            3.0        0                NaN                NaN                 NaN                 NaN                        NaN\n",
       "4       12133385         33750        1.0         0.0          1.0        0.0          2.0      133988.4      3547.35            Alone         Commercial           Secondary                     M        Female                 CL                Home                   0.020713    11366          2977              5516    4043            6.0           1              0                  0          Laborers                    4.0                 1.0                      3.0                       NaN                        Yes                     Yes  Business Entity Type 3        0.508199        0.301182    0.355638717               Extreme         674.0            1.0        0                6.0             Medium            0.508199                High                     0.2021\n",
       "...          ...           ...        ...         ...          ...        ...          ...           ...          ...              ...                ...                 ...                   ...           ...                ...                 ...                        ...      ...           ...               ...     ...            ...         ...            ...                ...               ...                    ...                 ...                      ...                       ...                        ...                     ...                     ...             ...             ...            ...                   ...           ...            ...      ...                ...                ...                 ...                 ...                        ...\n",
       "121851  12207714         29250        0.0         0.0          NaN        1.0          0.0        107820       3165.3         Relative            Service           Secondary                     M        Female                 CL                Home                   0.031329    12889          2863              2661    2943            NaN           1              0                  0          Laborers                    2.0                 2.0                      4.0                      16.0                        Yes                      No  Business Entity Type 2             NaN        0.173527    0.184116156                   Low           0.0            1.0        1                NaN                NaN                 NaN                 NaN                     0.0577\n",
       "121852  12173765         15750        0.0         1.0          1.0        0.0          0.0        104256      3388.05            Alone         Commercial          Graduation                     M        Female                 CL                Home                   0.018209     8648           636               902    1209            NaN           1              1                  0             Sales                    2.0                 3.0                      4.0                      12.0                        Yes                     Yes           Self-employed             NaN        0.371559    0.406617437                Medium           4.0            0.0        0                NaN                NaN                 NaN                 NaN                     0.0825\n",
       "121853  12103937          8100        0.0         1.0          0.0        1.0          1.0       55107.9      2989.35            Alone           Govt Job           Secondary                     M          Male                 CL                Home                   0.008068     9152          1623              3980     353            NaN           1              0                  0   High skill tech                    3.0                 3.0                      5.0                      11.0                         No                      No           Trade: type 6        0.169049        0.048079            NaN                   NaN           0.0            NaN        0                NaN                NaN            0.169049                 Low                        NaN\n",
       "121854  12170623         38250        1.0         1.0          0.0        1.0          0.0         45000      2719.35            Alone            Service          Graduation                     M        Female                 CL                Home                   0.028663    10290           847               895    2902            4.0           1              0                  0             Sales                    2.0                 2.0                      1.0                      12.0                        Yes                     Yes  Business Entity Type 3        0.182737        0.103538    0.077498546                  High           0.0            2.0        0                4.0                Low            0.182737                 Low                     0.0979\n",
       "121855  12105610          9000        1.0         1.0          1.0        1.0          1.0      62428.95      4201.65            Alone         Commercial           Secondary                     S          Male                 CL                Home                   0.018029    14772           498              8679    5025            6.0           1              0                  0          Managers                    2.0                 3.0                      4.0                       6.0                        Yes                     Yes  Business Entity Type 3             NaN        0.556414     0.29859499                  High         805.0            0.0        0                6.0             Medium                 NaN                 NaN                     0.1031\n",
       "\n",
       "[121856 rows x 45 columns]"
      ]
     },
     "execution_count": 31,
     "metadata": {},
     "output_type": "execute_result"
    }
   ],
   "source": [
    "df_train"
   ]
  },
  {
   "cell_type": "code",
   "execution_count": 32,
   "id": "89dbdb31",
   "metadata": {},
   "outputs": [
    {
     "data": {
      "text/plain": [
       "<seaborn.axisgrid.FacetGrid at 0x1f50064f790>"
      ]
     },
     "execution_count": 32,
     "metadata": {},
     "output_type": "execute_result"
    },
    {
     "data": {
      "image/png": "[encoded data removed]",
      "text/plain": [
       "<Figure size 562.111x500 with 1 Axes>"
      ]
     },
     "metadata": {},
     "output_type": "display_data"
    }
   ],
   "source": [
    "sns.catplot(data=df_train,kind='count',x='Client_Marital_Status',hue='Default')"
   ]
  },
  {
   "cell_type": "markdown",
   "id": "fbda3a94",
   "metadata": {},
   "source": [
    "# Married people tend to default more, followed by single and divorced"
   ]
  },
  {
   "cell_type": "code",
   "execution_count": 33,
   "id": "91a5cc5f",
   "metadata": {},
   "outputs": [
    {
     "data": {
      "text/plain": [
       "<seaborn.axisgrid.FacetGrid at 0x1f57785c7d0>"
      ]
     },
     "execution_count": 33,
     "metadata": {},
     "output_type": "execute_result"
    },
    {
     "data": {
      "image/png": "[encoded data removed]",
      "text/plain": [
       "<Figure size 562.111x500 with 1 Axes>"
      ]
     },
     "metadata": {},
     "output_type": "display_data"
    }
   ],
   "source": [
    "sns.catplot(data=df_train,kind='count',x='Cleint_City_Rating',hue='Default')"
   ]
  },
  {
   "cell_type": "markdown",
   "id": "bd57c948",
   "metadata": {},
   "source": [
    "# Preparing Datasets"
   ]
  },
  {
   "cell_type": "code",
   "execution_count": 34,
   "id": "d6f9720f",
   "metadata": {},
   "outputs": [
    {
     "data": {
      "text/plain": [
       "<seaborn.axisgrid.FacetGrid at 0x1f5776c5b10>"
      ]
     },
     "execution_count": 34,
     "metadata": {},
     "output_type": "execute_result"
    },
    {
     "data": {
      "image/png": "[encoded data removed]",
      "text/plain": [
       "<Figure size 562.111x500 with 1 Axes>"
      ]
     },
     "metadata": {},
     "output_type": "display_data"
    }
   ],
   "source": [
    "sns.catplot(data=df_train,kind='count',x='Client_Permanent_Match_Tag',hue='Default')"
   ]
  },
  {
   "cell_type": "code",
   "execution_count": 35,
   "id": "e27a3d1e",
   "metadata": {},
   "outputs": [],
   "source": [
    "# For Train dataset\n",
    "drop_cols=['ID','Application_Process_Day','Application_Process_Hour']\n",
    "df_train.drop(columns=drop_cols,axis=1,inplace=True)\n",
    "df_train['Score_Source_3']=df_train['Score_Source_3'].str.replace('&','').replace('',np.nan)\n",
    "df_train['Score_Source_3']=df_train['Score_Source_3'].str.replace('#','').replace('',np.nan)\n",
    "df_train['Score_Source_3']=df_train['Score_Source_3'].astype(float)\n",
    "df_train['Client_Income']=df_train['Client_Income'].str.replace('$','').replace('',np.nan)\n",
    "df_train['Client_Income']=df_train['Client_Income'].astype(float)\n",
    "df_train['Credit_Amount']=df_train['Credit_Amount'].str.replace('$','').replace('',np.nan)\n",
    "df_train['Credit_Amount']=df_train['Credit_Amount'].astype(float)\n",
    "df_train['Loan_Annuity']=df_train['Loan_Annuity'].str.replace('#VALUE!','').replace('',np.nan)\n",
    "df_train['Loan_Annuity']=df_train['Loan_Annuity'].str.replace('$','').replace('',np.nan)\n",
    "df_train['Loan_Annuity']=df_train['Loan_Annuity'].astype(float)"
   ]
  },
  {
   "cell_type": "code",
   "execution_count": 36,
   "id": "e2db43b6",
   "metadata": {},
   "outputs": [],
   "source": [
    "# For Test dataset\n",
    "drop_cols=['ID','Application_Process_Day','Application_Process_Hour']\n",
    "df_test.drop(columns=drop_cols,axis=1,inplace=True)\n",
    "df_test['Score_Source_3']=df_test['Score_Source_3'].str.replace('&','').replace('',np.nan)\n",
    "df_test['Score_Source_3']=df_test['Score_Source_3'].str.replace('#','').replace('',np.nan)\n",
    "df_test['Score_Source_3']=df_test['Score_Source_3'].astype(float)\n",
    "df_test['Client_Income']=df_test['Client_Income'].str.replace('$','').replace('',np.nan)\n",
    "df_test['Client_Income']=df_test['Client_Income'].astype(float)\n",
    "df_test['Credit_Amount']=df_test['Credit_Amount'].str.replace('$','').replace('',np.nan)\n",
    "df_test['Credit_Amount']=df_test['Credit_Amount'].astype(float)\n",
    "df_test['Loan_Annuity']=df_test['Loan_Annuity'].str.replace('#VALUE!','').replace('',np.nan)\n",
    "df_test['Loan_Annuity']=df_test['Loan_Annuity'].str.replace('$','').replace('',np.nan)\n",
    "df_test['Loan_Annuity']=df_test['Loan_Annuity'].astype(float)"
   ]
  },
  {
   "cell_type": "markdown",
   "id": "f3da7fa2",
   "metadata": {},
   "source": [
    "# Imputation\n",
    "  1. Imputing numerical data with mean "
   ]
  },
  {
   "cell_type": "code",
   "execution_count": 37,
   "id": "4fb6f739",
   "metadata": {},
   "outputs": [],
   "source": [
    "for col in df_train:\n",
    "    if df_train[col].dtype in [int,float]:\n",
    "        mean_val = df_train[col].mean()\n",
    "        df_train[col].fillna(mean_val,inplace=True)\n",
    "\n",
    "# Imputing test data below\n",
    "for col in df_test:\n",
    "    if df_test[col].dtype in [int,float]:\n",
    "        mean_val = df_test[col].mean()\n",
    "        df_test[col].fillna(mean_val,inplace=True)"
   ]
  },
  {
   "cell_type": "code",
   "execution_count": 38,
   "id": "5e0999b0",
   "metadata": {},
   "outputs": [
    {
     "data": {
      "text/plain": [
       "Client_Income                  0.000000\n",
       "Car_Owned                      0.000000\n",
       "Bike_Owned                     0.000000\n",
       "Active_Loan                    0.000000\n",
       "House_Own                      0.000000\n",
       "Child_Count                    0.000000\n",
       "Credit_Amount                  0.000000\n",
       "Loan_Annuity                   0.000000\n",
       "Accompany_Client               1.432839\n",
       "Client_Income_Type             3.037191\n",
       "Client_Education               2.991236\n",
       "Client_Marital_Status          2.850085\n",
       "Client_Gender                  1.980206\n",
       "Loan_Contract_Type             2.996159\n",
       "Client_Housing_Type            3.025702\n",
       "Population_Region_Relative     3.985852\n",
       "Age_Days                       2.954307\n",
       "Employed_Days                  2.994518\n",
       "Registration_Days              2.965796\n",
       "ID_Days                        4.897584\n",
       "Own_House_Age                  0.000000\n",
       "Mobile_Tag                     0.000000\n",
       "Homephone_Tag                  0.000000\n",
       "Workphone_Working              0.000000\n",
       "Client_Occupation             34.003250\n",
       "Client_Family_Members          0.000000\n",
       "Cleint_City_Rating             0.000000\n",
       "Client_Permanent_Match_Tag     0.000000\n",
       "Client_Contact_Work_Tag        0.000000\n",
       "Type_Organization              2.961692\n",
       "Score_Source_1                 0.000000\n",
       "Score_Source_2                 0.000000\n",
       "Score_Source_3                 0.000000\n",
       "Social_Circle_Default         50.820641\n",
       "Phone_Change                   0.000000\n",
       "Credit_Bureau                  0.000000\n",
       "Default                        0.000000\n",
       "Own_House_Age_new              0.000000\n",
       "Own_House_Age_bins            65.729221\n",
       "Score_Source_1_new             0.000000\n",
       "Score_Source_1_bins           56.488806\n",
       "Social_Circle_Default_new      0.000000\n",
       "dtype: float64"
      ]
     },
     "execution_count": 38,
     "metadata": {},
     "output_type": "execute_result"
    }
   ],
   "source": [
    "(df_train.isnull().sum())*100/len(df_train)"
   ]
  },
  {
   "cell_type": "code",
   "execution_count": 39,
   "id": "5eeb2498",
   "metadata": {},
   "outputs": [
    {
     "data": {
      "text/plain": [
       "Client_Income                  0.000000\n",
       "Car_Owned                      0.000000\n",
       "Bike_Owned                     0.000000\n",
       "Active_Loan                    0.000000\n",
       "House_Own                      0.000000\n",
       "Child_Count                    0.000000\n",
       "Credit_Amount                  0.000000\n",
       "Loan_Annuity                   0.000000\n",
       "Accompany_Client               1.493201\n",
       "Client_Income_Type             3.091471\n",
       "Client_Education               2.904821\n",
       "Client_Marital_Status          3.019778\n",
       "Client_Gender                  2.011125\n",
       "Loan_Contract_Type             2.868974\n",
       "Client_Housing_Type            2.976514\n",
       "Population_Region_Relative     4.042027\n",
       "Age_Days                       3.064277\n",
       "Employed_Days                  2.992583\n",
       "Registration_Days              2.964153\n",
       "ID_Days                        4.797281\n",
       "Own_House_Age                  0.000000\n",
       "Mobile_Tag                     0.000000\n",
       "Homephone_Tag                  0.000000\n",
       "Workphone_Working              0.000000\n",
       "Client_Occupation             34.419036\n",
       "Client_Family_Members          0.000000\n",
       "Cleint_City_Rating             0.000000\n",
       "Client_Permanent_Match_Tag     0.000000\n",
       "Client_Contact_Work_Tag        0.000000\n",
       "Type_Organization              3.039555\n",
       "Score_Source_1                 0.000000\n",
       "Score_Source_2                 4.592089\n",
       "Score_Source_3                 0.000000\n",
       "Social_Circle_Default          0.000000\n",
       "Phone_Change                   0.000000\n",
       "Credit_Bureau                  0.000000\n",
       "dtype: float64"
      ]
     },
     "execution_count": 39,
     "metadata": {},
     "output_type": "execute_result"
    }
   ],
   "source": [
    "(df_test.isnull().sum())*100/len(df_test)"
   ]
  },
  {
   "cell_type": "code",
   "execution_count": 40,
   "id": "f89f8052",
   "metadata": {},
   "outputs": [],
   "source": [
    "# dropping columns whose missing percentage is greater than 30 and columns created for EDA\n",
    "train_cols = ['Client_Occupation','Social_Circle_Default_new','Score_Source_1_bins','Score_Source_1_new','Own_House_Age_bins',\n",
    "              'Own_House_Age_new','Social_Circle_Default']\n",
    "test_cols = ['Client_Occupation','Social_Circle_Default']\n",
    "df_train.drop(train_cols,axis=1,inplace=True)\n",
    "df_test.drop(test_cols,axis = 1, inplace=True)"
   ]
  },
  {
   "cell_type": "code",
   "execution_count": 41,
   "id": "ceed1aff",
   "metadata": {},
   "outputs": [
    {
     "data": {
      "text/plain": [
       "Client_Income                 0.000000\n",
       "Car_Owned                     0.000000\n",
       "Bike_Owned                    0.000000\n",
       "Active_Loan                   0.000000\n",
       "House_Own                     0.000000\n",
       "Child_Count                   0.000000\n",
       "Credit_Amount                 0.000000\n",
       "Loan_Annuity                  0.000000\n",
       "Accompany_Client              1.432839\n",
       "Client_Income_Type            3.037191\n",
       "Client_Education              2.991236\n",
       "Client_Marital_Status         2.850085\n",
       "Client_Gender                 1.980206\n",
       "Loan_Contract_Type            2.996159\n",
       "Client_Housing_Type           3.025702\n",
       "Population_Region_Relative    3.985852\n",
       "Age_Days                      2.954307\n",
       "Employed_Days                 2.994518\n",
       "Registration_Days             2.965796\n",
       "ID_Days                       4.897584\n",
       "Own_House_Age                 0.000000\n",
       "Mobile_Tag                    0.000000\n",
       "Homephone_Tag                 0.000000\n",
       "Workphone_Working             0.000000\n",
       "Client_Family_Members         0.000000\n",
       "Cleint_City_Rating            0.000000\n",
       "Client_Permanent_Match_Tag    0.000000\n",
       "Client_Contact_Work_Tag       0.000000\n",
       "Type_Organization             2.961692\n",
       "Score_Source_1                0.000000\n",
       "Score_Source_2                0.000000\n",
       "Score_Source_3                0.000000\n",
       "Phone_Change                  0.000000\n",
       "Credit_Bureau                 0.000000\n",
       "Default                       0.000000\n",
       "dtype: float64"
      ]
     },
     "execution_count": 41,
     "metadata": {},
     "output_type": "execute_result"
    }
   ],
   "source": [
    "(df_train.isnull().sum())*100/len(df_train)"
   ]
  },
  {
   "cell_type": "code",
   "execution_count": 42,
   "id": "2e8effce",
   "metadata": {},
   "outputs": [
    {
     "data": {
      "text/plain": [
       "Client_Income                 0.000000\n",
       "Car_Owned                     0.000000\n",
       "Bike_Owned                    0.000000\n",
       "Active_Loan                   0.000000\n",
       "House_Own                     0.000000\n",
       "Child_Count                   0.000000\n",
       "Credit_Amount                 0.000000\n",
       "Loan_Annuity                  0.000000\n",
       "Accompany_Client              1.493201\n",
       "Client_Income_Type            3.091471\n",
       "Client_Education              2.904821\n",
       "Client_Marital_Status         3.019778\n",
       "Client_Gender                 2.011125\n",
       "Loan_Contract_Type            2.868974\n",
       "Client_Housing_Type           2.976514\n",
       "Population_Region_Relative    4.042027\n",
       "Age_Days                      3.064277\n",
       "Employed_Days                 2.992583\n",
       "Registration_Days             2.964153\n",
       "ID_Days                       4.797281\n",
       "Own_House_Age                 0.000000\n",
       "Mobile_Tag                    0.000000\n",
       "Homephone_Tag                 0.000000\n",
       "Workphone_Working             0.000000\n",
       "Client_Family_Members         0.000000\n",
       "Cleint_City_Rating            0.000000\n",
       "Client_Permanent_Match_Tag    0.000000\n",
       "Client_Contact_Work_Tag       0.000000\n",
       "Type_Organization             3.039555\n",
       "Score_Source_1                0.000000\n",
       "Score_Source_2                4.592089\n",
       "Score_Source_3                0.000000\n",
       "Phone_Change                  0.000000\n",
       "Credit_Bureau                 0.000000\n",
       "dtype: float64"
      ]
     },
     "execution_count": 42,
     "metadata": {},
     "output_type": "execute_result"
    }
   ],
   "source": [
    "(df_test.isnull().sum())*100/len(df_test)"
   ]
  },
  {
   "cell_type": "code",
   "execution_count": 43,
   "id": "3517cf81",
   "metadata": {},
   "outputs": [],
   "source": [
    "# # From the above analysis , i see a small data percentage is missing \n",
    "# 1. We can drop the missing data or\n",
    "# 2. We can fill in the missing data.\n",
    "# I am dropping the data in this case\n",
    "df_train.dropna(inplace=True)\n",
    "df_test.dropna(inplace=True)"
   ]
  },
  {
   "cell_type": "code",
   "execution_count": 44,
   "id": "e6f3b7df",
   "metadata": {},
   "outputs": [
    {
     "data": {
      "text/plain": [
       "Client_Income                 81945\n",
       "Car_Owned                     81945\n",
       "Bike_Owned                    81945\n",
       "Active_Loan                   81945\n",
       "House_Own                     81945\n",
       "Child_Count                   81945\n",
       "Credit_Amount                 81945\n",
       "Loan_Annuity                  81945\n",
       "Accompany_Client              81945\n",
       "Client_Income_Type            81945\n",
       "Client_Education              81945\n",
       "Client_Marital_Status         81945\n",
       "Client_Gender                 81945\n",
       "Loan_Contract_Type            81945\n",
       "Client_Housing_Type           81945\n",
       "Population_Region_Relative    81945\n",
       "Age_Days                      81945\n",
       "Employed_Days                 81945\n",
       "Registration_Days             81945\n",
       "ID_Days                       81945\n",
       "Own_House_Age                 81945\n",
       "Mobile_Tag                    81945\n",
       "Homephone_Tag                 81945\n",
       "Workphone_Working             81945\n",
       "Client_Family_Members         81945\n",
       "Cleint_City_Rating            81945\n",
       "Client_Permanent_Match_Tag    81945\n",
       "Client_Contact_Work_Tag       81945\n",
       "Type_Organization             81945\n",
       "Score_Source_1                81945\n",
       "Score_Source_2                81945\n",
       "Score_Source_3                81945\n",
       "Phone_Change                  81945\n",
       "Credit_Bureau                 81945\n",
       "Default                       81945\n",
       "dtype: int64"
      ]
     },
     "execution_count": 44,
     "metadata": {},
     "output_type": "execute_result"
    }
   ],
   "source": [
    "df_train.count()"
   ]
  },
  {
   "cell_type": "code",
   "execution_count": 45,
   "id": "f9662721",
   "metadata": {},
   "outputs": [
    {
     "name": "stdout",
     "output_type": "stream",
     "text": [
      "Client_Income                 51824\n",
      "Car_Owned                     51824\n",
      "Bike_Owned                    51824\n",
      "Active_Loan                   51824\n",
      "House_Own                     51824\n",
      "Child_Count                   51824\n",
      "Credit_Amount                 51824\n",
      "Loan_Annuity                  51824\n",
      "Accompany_Client              51824\n",
      "Client_Income_Type            51824\n",
      "Client_Education              51824\n",
      "Client_Marital_Status         51824\n",
      "Client_Gender                 51824\n",
      "Loan_Contract_Type            51824\n",
      "Client_Housing_Type           51824\n",
      "Population_Region_Relative    51824\n",
      "Age_Days                      51824\n",
      "Employed_Days                 51824\n",
      "Registration_Days             51824\n",
      "ID_Days                       51824\n",
      "Own_House_Age                 51824\n",
      "Mobile_Tag                    51824\n",
      "Homephone_Tag                 51824\n",
      "Workphone_Working             51824\n",
      "Client_Family_Members         51824\n",
      "Cleint_City_Rating            51824\n",
      "Client_Permanent_Match_Tag    51824\n",
      "Client_Contact_Work_Tag       51824\n",
      "Type_Organization             51824\n",
      "Score_Source_1                51824\n",
      "Score_Source_2                51824\n",
      "Score_Source_3                51824\n",
      "Phone_Change                  51824\n",
      "Credit_Bureau                 51824\n",
      "dtype: int64\n"
     ]
    }
   ],
   "source": [
    "print(df_test.count())"
   ]
  },
  {
   "cell_type": "markdown",
   "id": "16dbb5e3",
   "metadata": {},
   "source": [
    "# Categorical Data needs to be encoded "
   ]
  },
  {
   "cell_type": "code",
   "execution_count": 46,
   "id": "01ce3da4",
   "metadata": {},
   "outputs": [],
   "source": [
    "from sklearn.preprocessing import OrdinalEncoder\n",
    "enc=OrdinalEncoder()\n",
    "# Iterating throught the DataFrame, checking for object or category dtype features. \n",
    "# If yes then encode else continue\n",
    "for col in df_train:\n",
    "    if df_train[col].dtype in [object,'category']:\n",
    "        df_train[col]=enc.fit_transform(df_train[col].astype(str).values.reshape(-1,1))\n",
    "    else:\n",
    "        continue\n",
    "for col in df_test:\n",
    "    if df_test[col].dtype in [object,'category']:\n",
    "        df_test[col]=enc.fit_transform(df_test[col].astype(str).values.reshape(-1,1))\n",
    "    else:\n",
    "        continue"
   ]
  },
  {
   "cell_type": "code",
   "execution_count": 47,
   "id": "a17b06df",
   "metadata": {},
   "outputs": [
    {
     "data": {
      "text/plain": [
       "Client_Income                 81945\n",
       "Car_Owned                     81945\n",
       "Bike_Owned                    81945\n",
       "Active_Loan                   81945\n",
       "House_Own                     81945\n",
       "Child_Count                   81945\n",
       "Credit_Amount                 81945\n",
       "Loan_Annuity                  81945\n",
       "Accompany_Client              81945\n",
       "Client_Income_Type            81945\n",
       "Client_Education              81945\n",
       "Client_Marital_Status         81945\n",
       "Client_Gender                 81945\n",
       "Loan_Contract_Type            81945\n",
       "Client_Housing_Type           81945\n",
       "Population_Region_Relative    81945\n",
       "Age_Days                      81945\n",
       "Employed_Days                 81945\n",
       "Registration_Days             81945\n",
       "ID_Days                       81945\n",
       "Own_House_Age                 81945\n",
       "Mobile_Tag                    81945\n",
       "Homephone_Tag                 81945\n",
       "Workphone_Working             81945\n",
       "Client_Family_Members         81945\n",
       "Cleint_City_Rating            81945\n",
       "Client_Permanent_Match_Tag    81945\n",
       "Client_Contact_Work_Tag       81945\n",
       "Type_Organization             81945\n",
       "Score_Source_1                81945\n",
       "Score_Source_2                81945\n",
       "Score_Source_3                81945\n",
       "Phone_Change                  81945\n",
       "Credit_Bureau                 81945\n",
       "Default                       81945\n",
       "dtype: int64"
      ]
     },
     "execution_count": 47,
     "metadata": {},
     "output_type": "execute_result"
    }
   ],
   "source": [
    "df_train.count()"
   ]
  },
  {
   "cell_type": "code",
   "execution_count": 48,
   "id": "a713aace",
   "metadata": {},
   "outputs": [
    {
     "data": {
      "text/plain": [
       "Client_Income                 51824\n",
       "Car_Owned                     51824\n",
       "Bike_Owned                    51824\n",
       "Active_Loan                   51824\n",
       "House_Own                     51824\n",
       "Child_Count                   51824\n",
       "Credit_Amount                 51824\n",
       "Loan_Annuity                  51824\n",
       "Accompany_Client              51824\n",
       "Client_Income_Type            51824\n",
       "Client_Education              51824\n",
       "Client_Marital_Status         51824\n",
       "Client_Gender                 51824\n",
       "Loan_Contract_Type            51824\n",
       "Client_Housing_Type           51824\n",
       "Population_Region_Relative    51824\n",
       "Age_Days                      51824\n",
       "Employed_Days                 51824\n",
       "Registration_Days             51824\n",
       "ID_Days                       51824\n",
       "Own_House_Age                 51824\n",
       "Mobile_Tag                    51824\n",
       "Homephone_Tag                 51824\n",
       "Workphone_Working             51824\n",
       "Client_Family_Members         51824\n",
       "Cleint_City_Rating            51824\n",
       "Client_Permanent_Match_Tag    51824\n",
       "Client_Contact_Work_Tag       51824\n",
       "Type_Organization             51824\n",
       "Score_Source_1                51824\n",
       "Score_Source_2                51824\n",
       "Score_Source_3                51824\n",
       "Phone_Change                  51824\n",
       "Credit_Bureau                 51824\n",
       "dtype: int64"
      ]
     },
     "execution_count": 48,
     "metadata": {},
     "output_type": "execute_result"
    }
   ],
   "source": [
    "df_test.count()"
   ]
  },
  {
   "cell_type": "code",
   "execution_count": 49,
   "id": "2f3f1da5",
   "metadata": {},
   "outputs": [
    {
     "data": {
      "text/plain": [
       "<Axes: xlabel='Default', ylabel='count'>"
      ]
     },
     "execution_count": 49,
     "metadata": {},
     "output_type": "execute_result"
    },
    {
     "data": {
      "image/png": "[encoded data removed]",
      "text/plain": [
       "<Figure size 640x480 with 1 Axes>"
      ]
     },
     "metadata": {},
     "output_type": "display_data"
    }
   ],
   "source": [
    "sns.countplot(df_train, x=\"Default\")"
   ]
  },
  {
   "cell_type": "code",
   "execution_count": 50,
   "id": "d817ba5a",
   "metadata": {},
   "outputs": [
    {
     "data": {
      "image/png": "[encoded data removed]",
      "text/plain": [
       "<Figure size 1200x600 with 1 Axes>"
      ]
     },
     "metadata": {},
     "output_type": "display_data"
    },
    {
     "name": "stdout",
     "output_type": "stream",
     "text": [
      "% of no defaults       : 91.91530904875222\n",
      "Number of no defaults     : 75320\n",
      "% of defaults         : 8.084690951247788\n",
      "Number of defaults    : 6625\n"
     ]
    }
   ],
   "source": [
    "#Graph\n",
    "my_pal = {0: 'deepskyblue', 1: 'deeppink'}\n",
    "\n",
    "plt.figure(figsize = (12, 6))\n",
    "ax = sns.countplot(x = 'Default', data = df_train, palette = my_pal)\n",
    "plt.title('Class Distribution')\n",
    "plt.show()\n",
    "\n",
    "# Count and %\n",
    "Count_Normal_transacation = len(df_train[df_train['Default']==0])\n",
    "Count_Fraud_transacation = len(df_train[df_train['Default']==1]) \n",
    "Percentage_of_Normal_transacation = Count_Normal_transacation/(Count_Normal_transacation+Count_Fraud_transacation)\n",
    "print('% of no defaults       :', Percentage_of_Normal_transacation*100)\n",
    "print('Number of no defaults     :', Count_Normal_transacation)\n",
    "Percentage_of_Fraud_transacation= Count_Fraud_transacation/(Count_Normal_transacation+Count_Fraud_transacation)\n",
    "print('% of defaults         :',Percentage_of_Fraud_transacation*100)\n",
    "print('Number of defaults    :', Count_Fraud_transacation)"
   ]
  },
  {
   "cell_type": "code",
   "execution_count": 51,
   "id": "5b0e3074",
   "metadata": {},
   "outputs": [],
   "source": [
    "x=df_train.drop('Default',axis=1)\n",
    "y=df_train['Default']\n",
    "from sklearn.model_selection import train_test_split\n",
    "X_train, X_test, y_train, y_test = train_test_split(x, y, test_size = 0.20, random_state = 101)\n",
    "\n",
    "from sklearn.model_selection import KFold\n",
    "from sklearn.model_selection import cross_val_score\n",
    "from sklearn.metrics import confusion_matrix, accuracy_score\n",
    "k_fold = KFold(n_splits=10, shuffle=True, random_state=0)"
   ]
  },
  {
   "cell_type": "code",
   "execution_count": 52,
   "id": "d31aaebc",
   "metadata": {},
   "outputs": [
    {
     "name": "stdout",
     "output_type": "stream",
     "text": [
      "[[15044     0]\n",
      " [ 1345     0]]\n",
      "92.0\n"
     ]
    }
   ],
   "source": [
    "from sklearn.linear_model import LogisticRegression\n",
    "logmodel = LogisticRegression() \n",
    "logmodel.fit(X_train,y_train)\n",
    "logpred = logmodel.predict(X_test)\n",
    "\n",
    "\n",
    "print(confusion_matrix(y_test, logpred))\n",
    "print(round(accuracy_score(y_test, logpred),2)*100)\n",
    "LOGCV = (cross_val_score(logmodel, X_train, y_train, cv=k_fold, n_jobs=1, scoring = 'accuracy').mean())"
   ]
  },
  {
   "cell_type": "code",
   "execution_count": 53,
   "id": "04858c2e",
   "metadata": {},
   "outputs": [
    {
     "name": "stdout",
     "output_type": "stream",
     "text": [
      "Accuracy of model  0.9179327597778998\n",
      "F1 Score  0.0\n",
      "Recall Score  0.0\n",
      "Balanced Accuracy Score  0.5\n"
     ]
    }
   ],
   "source": [
    "from sklearn.metrics import f1_score\n",
    "from sklearn.metrics import balanced_accuracy_score\n",
    "print(\"Accuracy of model \",accuracy_score(y_test, logpred))\n",
    "print(\"F1 Score \",f1_score(y_test, logpred))\n",
    "print(\"Recall Score \",recall_score(y_test, logpred))\n",
    "print(\"Balanced Accuracy Score \",balanced_accuracy_score(y_test, logpred))"
   ]
  },
  {
   "cell_type": "code",
   "execution_count": 54,
   "id": "9e9907af",
   "metadata": {},
   "outputs": [
    {
     "name": "stdout",
     "output_type": "stream",
     "text": [
      "[[15011    33]\n",
      " [ 1227   118]]\n",
      "92.0\n"
     ]
    }
   ],
   "source": [
    "from sklearn.ensemble import RandomForestClassifier\n",
    "\n",
    "# train model\n",
    "rfc = RandomForestClassifier(n_estimators=10).fit(X_train, y_train)\n",
    "\n",
    "# predict on test set\n",
    "rfc_pred = rfc.predict(X_test)\n",
    "print(confusion_matrix(y_test, rfc_pred))\n",
    "print(round(accuracy_score(y_test, rfc_pred),2)*100)\n",
    "LOGCV = (cross_val_score(logmodel, X_train, y_train, cv=k_fold, n_jobs=1, scoring = 'accuracy').mean())\n"
   ]
  },
  {
   "cell_type": "code",
   "execution_count": 55,
   "id": "cc9941cb",
   "metadata": {},
   "outputs": [
    {
     "name": "stdout",
     "output_type": "stream",
     "text": [
      "Accuracy of model  0.9231191652937946\n",
      "F1 Score  0.15775401069518716\n",
      "Recall Score  0.08773234200743495\n",
      "Balanced Accuracy Score  0.5427693882331777\n"
     ]
    }
   ],
   "source": [
    "from sklearn.metrics import f1_score\n",
    "from sklearn.metrics import balanced_accuracy_score\n",
    "print(\"Accuracy of model \",accuracy_score(y_test, rfc_pred))\n",
    "print(\"F1 Score \",f1_score(y_test, rfc_pred))\n",
    "print(\"Recall Score \",recall_score(y_test, rfc_pred))\n",
    "print(\"Balanced Accuracy Score \",balanced_accuracy_score(y_test, rfc_pred))"
   ]
  },
  {
   "cell_type": "code",
   "execution_count": 56,
   "id": "61bfcc1c",
   "metadata": {},
   "outputs": [
    {
     "name": "stdout",
     "output_type": "stream",
     "text": [
      "[[14876   168]\n",
      " [ 1328    17]]\n",
      "91.0\n"
     ]
    }
   ],
   "source": [
    "from sklearn.naive_bayes import GaussianNB\n",
    "\n",
    "# train model\n",
    "nb = GaussianNB().fit(X_train, y_train)\n",
    "\n",
    "# predict on test set\n",
    "nb_pred = nb.predict(X_test)\n",
    "print(confusion_matrix(y_test, nb_pred))\n",
    "print(round(accuracy_score(y_test, nb_pred),2)*100)\n",
    "LOGCV = (cross_val_score(logmodel, X_train, y_train, cv=k_fold, n_jobs=1, scoring = 'accuracy').mean())"
   ]
  },
  {
   "cell_type": "code",
   "execution_count": 57,
   "id": "6f71642d",
   "metadata": {},
   "outputs": [
    {
     "name": "stdout",
     "output_type": "stream",
     "text": [
      "Accuracy of model  0.9087192629202514\n",
      "F1 Score  0.022222222222222223\n",
      "Recall Score  0.012639405204460967\n",
      "Balanced Accuracy Score  0.5007360812249372\n"
     ]
    }
   ],
   "source": [
    "from sklearn.metrics import f1_score\n",
    "from sklearn.metrics import balanced_accuracy_score\n",
    "print(\"Accuracy of model \",accuracy_score(y_test, nb_pred))\n",
    "print(\"F1 Score \",f1_score(y_test, nb_pred))\n",
    "print(\"Recall Score \",recall_score(y_test, nb_pred))\n",
    "print(\"Balanced Accuracy Score \",balanced_accuracy_score(y_test, nb_pred))"
   ]
  },
  {
   "cell_type": "code",
   "execution_count": 58,
   "id": "77849605",
   "metadata": {},
   "outputs": [
    {
     "name": "stdout",
     "output_type": "stream",
     "text": [
      "[[15044     0]\n",
      " [ 1345     0]]\n",
      "92.0\n"
     ]
    }
   ],
   "source": [
    "from sklearn.linear_model import SGDClassifier\n",
    "\n",
    "# train model\n",
    "sgd = SGDClassifier(loss= \"modified_huber\", shuffle = True, random_state= 101).fit(X_train, y_train)\n",
    "\n",
    "# predict on test set\n",
    "sgd_pred = sgd.predict(X_test)\n",
    "print(confusion_matrix(y_test, sgd_pred))\n",
    "print(round(accuracy_score(y_test, sgd_pred),2)*100)\n",
    "LOGCV = (cross_val_score(logmodel, X_train, y_train, cv=k_fold, n_jobs=1, scoring = 'accuracy').mean())"
   ]
  },
  {
   "cell_type": "code",
   "execution_count": 59,
   "id": "9b0a3147",
   "metadata": {},
   "outputs": [
    {
     "name": "stdout",
     "output_type": "stream",
     "text": [
      "[[14992    52]\n",
      " [ 1311    34]]\n",
      "92.0\n"
     ]
    }
   ],
   "source": [
    "from sklearn.tree import DecisionTreeClassifier\n",
    "\n",
    "# train model\n",
    "dtree = DecisionTreeClassifier(max_depth = 10, random_state= 101, max_features =None , min_samples_leaf = 30).fit(X_train, y_train)\n",
    "\n",
    "# predict on test set\n",
    "dtree_pred = dtree.predict(X_test)\n",
    "print(confusion_matrix(y_test, dtree_pred))\n",
    "print(round(accuracy_score(y_test, dtree_pred),2)*100)\n",
    "LOGCV = (cross_val_score(logmodel, X_train, y_train, cv=k_fold, n_jobs=1, scoring = 'accuracy').mean())"
   ]
  },
  {
   "cell_type": "code",
   "execution_count": 60,
   "id": "276bd6d8",
   "metadata": {},
   "outputs": [
    {
     "name": "stdout",
     "output_type": "stream",
     "text": [
      "Accuracy of model  0.9168344621392397\n",
      "F1 Score  0.047519217330538085\n",
      "Recall Score  0.025278810408921933\n",
      "Balanced Accuracy Score  0.5109111414448225\n"
     ]
    }
   ],
   "source": [
    "from sklearn.metrics import f1_score\n",
    "from sklearn.metrics import balanced_accuracy_score\n",
    "print(\"Accuracy of model \",accuracy_score(y_test, dtree_pred))\n",
    "print(\"F1 Score \",f1_score(y_test, dtree_pred))\n",
    "print(\"Recall Score \",recall_score(y_test, dtree_pred))\n",
    "print(\"Balanced Accuracy Score \",balanced_accuracy_score(y_test, dtree_pred))"
   ]
  },
  {
   "cell_type": "code",
   "execution_count": 61,
   "id": "9ee64143",
   "metadata": {},
   "outputs": [
    {
     "name": "stdout",
     "output_type": "stream",
     "text": [
      "[[14975    69]\n",
      " [ 1273    72]]\n",
      "92.0\n"
     ]
    }
   ],
   "source": [
    "# XG Boost\n",
    "\n",
    "from xgboost import XGBClassifier\n",
    "\n",
    "# train model\n",
    "xgb = XGBClassifier().fit(X_train, y_train)\n",
    "\n",
    "# predict on test set\n",
    "xgb_pred = xgb.predict(X_test)\n",
    "print(confusion_matrix(y_test, xgb_pred))\n",
    "print(round(accuracy_score(y_test, xgb_pred),2)*100)\n",
    "LOGCV = (cross_val_score(logmodel, X_train, y_train, cv=k_fold, n_jobs=1, scoring = 'accuracy').mean())"
   ]
  },
  {
   "cell_type": "code",
   "execution_count": 62,
   "id": "54f888f7",
   "metadata": {},
   "outputs": [
    {
     "name": "stdout",
     "output_type": "stream",
     "text": [
      "Accuracy of model  0.9181158093843431\n",
      "F1 Score  0.09690444145356662\n",
      "Recall Score  0.053531598513011154\n",
      "Balanced Accuracy Score  0.5244725261908316\n"
     ]
    }
   ],
   "source": [
    "from sklearn.metrics import f1_score\n",
    "from sklearn.metrics import balanced_accuracy_score\n",
    "print(\"Accuracy of model \",accuracy_score(y_test, xgb_pred))\n",
    "print(\"F1 Score \",f1_score(y_test, xgb_pred))\n",
    "print(\"Recall Score \",recall_score(y_test, xgb_pred))\n",
    "print(\"Balanced Accuracy Score \",balanced_accuracy_score(y_test, xgb_pred))"
   ]
  },
  {
   "cell_type": "markdown",
   "id": "98c0d5bf",
   "metadata": {},
   "source": [
    "# treating imbalanced dataset"
   ]
  },
  {
   "cell_type": "code",
   "execution_count": 63,
   "id": "bfeeba2c",
   "metadata": {},
   "outputs": [],
   "source": [
    "from imblearn.over_sampling import SMOTE\n",
    "\n",
    "\n",
    "# setting up testing and training sets\n",
    "X_train, X_test, y_train, y_test = train_test_split(x, y, test_size=0.25, random_state=27)\n",
    "\n",
    "sm = SMOTE(random_state=27)\n",
    "X_train, y_train = sm.fit_resample(X_train, y_train)"
   ]
  },
  {
   "cell_type": "code",
   "execution_count": 64,
   "id": "b12ea035",
   "metadata": {},
   "outputs": [
    {
     "name": "stdout",
     "output_type": "stream",
     "text": [
      "[[13369  5452]\n",
      " [ 1147   519]]\n",
      "68.0\n"
     ]
    }
   ],
   "source": [
    "from sklearn.linear_model import SGDClassifier\n",
    "\n",
    "# train model\n",
    "sgd = SGDClassifier(loss= \"modified_huber\", shuffle = True, random_state= 101).fit(X_train, y_train)\n",
    "\n",
    "# predict on test set\n",
    "sgd_pred = sgd.predict(X_test)\n",
    "print(confusion_matrix(y_test, sgd_pred))\n",
    "print(round(accuracy_score(y_test, sgd_pred),2)*100)\n",
    "LOGCV = (cross_val_score(logmodel, X_train, y_train, cv=k_fold, n_jobs=1, scoring = 'accuracy').mean())"
   ]
  },
  {
   "cell_type": "code",
   "execution_count": 65,
   "id": "edc7da96",
   "metadata": {},
   "outputs": [
    {
     "name": "stdout",
     "output_type": "stream",
     "text": [
      "[[17982   839]\n",
      " [ 1492   174]]\n",
      "89.0\n"
     ]
    }
   ],
   "source": [
    "from sklearn.tree import DecisionTreeClassifier\n",
    "\n",
    "# train model\n",
    "dtree = DecisionTreeClassifier(max_depth = 10, random_state= 101, max_features =None , min_samples_leaf = 30).fit(X_train, y_train)\n",
    "\n",
    "# predict on test set\n",
    "dtree_pred = dtree.predict(X_test)\n",
    "print(confusion_matrix(y_test, dtree_pred))\n",
    "print(round(accuracy_score(y_test, dtree_pred),2)*100)\n",
    "LOGCV = (cross_val_score(logmodel, X_train, y_train, cv=k_fold, n_jobs=1, scoring = 'accuracy').mean())"
   ]
  },
  {
   "cell_type": "code",
   "execution_count": 66,
   "id": "76c493f3",
   "metadata": {},
   "outputs": [
    {
     "name": "stdout",
     "output_type": "stream",
     "text": [
      "Accuracy of model  0.8862205300922537\n",
      "F1 Score  0.12989921612541994\n",
      "Recall Score  0.10444177671068428\n",
      "Balanced Accuracy Score  0.5299319557800273\n"
     ]
    }
   ],
   "source": [
    "from sklearn.metrics import f1_score\n",
    "from sklearn.metrics import balanced_accuracy_score\n",
    "print(\"Accuracy of model \",accuracy_score(y_test, dtree_pred))\n",
    "print(\"F1 Score \",f1_score(y_test, dtree_pred))\n",
    "print(\"Recall Score \",recall_score(y_test, dtree_pred))\n",
    "print(\"Balanced Accuracy Score \",balanced_accuracy_score(y_test, dtree_pred))"
   ]
  },
  {
   "cell_type": "code",
   "execution_count": 67,
   "id": "41ae3ca0",
   "metadata": {},
   "outputs": [
    {
     "name": "stdout",
     "output_type": "stream",
     "text": [
      "[[18714   107]\n",
      " [ 1509   157]]\n",
      "92.0\n",
      "Accuracy of model  0.9211207106945868\n",
      "F1 Score  0.16269430051813472\n",
      "Recall Score  0.09423769507803122\n",
      "Balanced Accuracy Score  0.544276278068743\n"
     ]
    }
   ],
   "source": [
    "from sklearn.ensemble import RandomForestClassifier\n",
    "\n",
    "# train model\n",
    "rfc = RandomForestClassifier(n_estimators=10).fit(X_train, y_train)\n",
    "\n",
    "# predict on test set\n",
    "rfc_pred = rfc.predict(X_test)\n",
    "print(confusion_matrix(y_test, rfc_pred))\n",
    "print(round(accuracy_score(y_test, rfc_pred),2)*100)\n",
    "LOGCV = (cross_val_score(logmodel, X_train, y_train, cv=k_fold, n_jobs=1, scoring = 'accuracy').mean())\n",
    "from sklearn.metrics import f1_score\n",
    "from sklearn.metrics import balanced_accuracy_score\n",
    "print(\"Accuracy of model \",accuracy_score(y_test, rfc_pred))\n",
    "print(\"F1 Score \",f1_score(y_test, rfc_pred))\n",
    "print(\"Recall Score \",recall_score(y_test, rfc_pred))\n",
    "print(\"Balanced Accuracy Score \",balanced_accuracy_score(y_test, rfc_pred))"
   ]
  },
  {
   "cell_type": "code",
   "execution_count": 68,
   "id": "c1bd2194",
   "metadata": {},
   "outputs": [
    {
     "name": "stdout",
     "output_type": "stream",
     "text": [
      "[[18791    30]\n",
      " [ 1459   207]]\n",
      "93.0\n",
      "Accuracy of model  0.9273197637526236\n",
      "F1 Score  0.21755123489227537\n",
      "Recall Score  0.12424969987995198\n",
      "Balanced Accuracy Score  0.561327867845507\n"
     ]
    }
   ],
   "source": [
    "from sklearn.ensemble import ExtraTreesClassifier\n",
    "etc = ExtraTreesClassifier(n_estimators=300)\n",
    "etc.fit(X_train, y_train)\n",
    "etc_pred=etc.predict(X_test)\n",
    "print(confusion_matrix(y_test, etc_pred))\n",
    "print(round(accuracy_score(y_test, etc_pred),2)*100)\n",
    "LOGCV = (cross_val_score(logmodel, X_train, y_train, cv=k_fold, n_jobs=1, scoring = 'accuracy').mean())\n",
    "from sklearn.metrics import f1_score\n",
    "from sklearn.metrics import balanced_accuracy_score\n",
    "print(\"Accuracy of model \",accuracy_score(y_test, etc_pred))\n",
    "print(\"F1 Score \",f1_score(y_test, etc_pred))\n",
    "print(\"Recall Score \",recall_score(y_test, etc_pred))\n",
    "print(\"Balanced Accuracy Score \",balanced_accuracy_score(y_test, etc_pred))"
   ]
  },
  {
   "cell_type": "code",
   "execution_count": 72,
   "id": "308c808a",
   "metadata": {},
   "outputs": [
    {
     "data": {
      "image/png": "[encoded data removed]",
      "text/plain": [
       "<Figure size 640x480 with 1 Axes>"
      ]
     },
     "metadata": {},
     "output_type": "display_data"
    }
   ],
   "source": [
    "from sklearn.metrics import RocCurveDisplay\n",
    "etc_disp = RocCurveDisplay.from_estimator(etc, X_test, y_test)\n",
    "rfc_disp = RocCurveDisplay.from_estimator(rfc, X_test, y_test, ax=etc_disp.ax_)"
   ]
  },
  {
   "cell_type": "code",
   "execution_count": 73,
   "id": "01bb73d8",
   "metadata": {},
   "outputs": [],
   "source": [
    "import pickle\n",
    "pickle.dump(etc, open('model.pkl', 'wb'))"
   ]
  },
  {
   "cell_type": "code",
   "execution_count": 76,
   "id": "731e4343",
   "metadata": {},
   "outputs": [],
   "source": [
    "pickled_model = pickle.load(open('model.pkl', 'rb'))\n",
    "result = pickled_model.predict(df_test)"
   ]
  },
  {
   "cell_type": "code",
   "execution_count": 78,
   "id": "146f5445",
   "metadata": {},
   "outputs": [],
   "source": [
    "df_test['Default_Predicted'] = result\n",
    "#df_test1 = df_test.append(result)"
   ]
  },
  {
   "cell_type": "code",
   "execution_count": 79,
   "id": "4091076f",
   "metadata": {},
   "outputs": [
    {
     "data": {
      "text/html": [
       "<div>\n",
       "<style scoped>\n",
       "    .dataframe tbody tr th:only-of-type {\n",
       "        vertical-align: middle;\n",
       "    }\n",
       "\n",
       "    .dataframe tbody tr th {\n",
       "        vertical-align: top;\n",
       "    }\n",
       "\n",
       "    .dataframe thead th {\n",
       "        text-align: right;\n",
       "    }\n",
       "</style>\n",
       "<table border=\"1\" class=\"dataframe\">\n",
       "  <thead>\n",
       "    <tr style=\"text-align: right;\">\n",
       "      <th></th>\n",
       "      <th>Client_Income</th>\n",
       "      <th>Car_Owned</th>\n",
       "      <th>Bike_Owned</th>\n",
       "      <th>Active_Loan</th>\n",
       "      <th>House_Own</th>\n",
       "      <th>Child_Count</th>\n",
       "      <th>Credit_Amount</th>\n",
       "      <th>Loan_Annuity</th>\n",
       "      <th>Accompany_Client</th>\n",
       "      <th>Client_Income_Type</th>\n",
       "      <th>Client_Education</th>\n",
       "      <th>Client_Marital_Status</th>\n",
       "      <th>Client_Gender</th>\n",
       "      <th>Loan_Contract_Type</th>\n",
       "      <th>Client_Housing_Type</th>\n",
       "      <th>Population_Region_Relative</th>\n",
       "      <th>Age_Days</th>\n",
       "      <th>Employed_Days</th>\n",
       "      <th>Registration_Days</th>\n",
       "      <th>ID_Days</th>\n",
       "      <th>Own_House_Age</th>\n",
       "      <th>Mobile_Tag</th>\n",
       "      <th>Homephone_Tag</th>\n",
       "      <th>Workphone_Working</th>\n",
       "      <th>Client_Family_Members</th>\n",
       "      <th>Cleint_City_Rating</th>\n",
       "      <th>Client_Permanent_Match_Tag</th>\n",
       "      <th>Client_Contact_Work_Tag</th>\n",
       "      <th>Type_Organization</th>\n",
       "      <th>Score_Source_1</th>\n",
       "      <th>Score_Source_2</th>\n",
       "      <th>Score_Source_3</th>\n",
       "      <th>Phone_Change</th>\n",
       "      <th>Credit_Bureau</th>\n",
       "      <th>Default_Predicted</th>\n",
       "    </tr>\n",
       "  </thead>\n",
       "  <tbody>\n",
       "    <tr>\n",
       "      <th>1</th>\n",
       "      <td>13500.0</td>\n",
       "      <td>1.0</td>\n",
       "      <td>1.0</td>\n",
       "      <td>1.0</td>\n",
       "      <td>1.0</td>\n",
       "      <td>3.0</td>\n",
       "      <td>49752.000000</td>\n",
       "      <td>3252.15</td>\n",
       "      <td>1.0</td>\n",
       "      <td>4.0</td>\n",
       "      <td>3.0</td>\n",
       "      <td>1.0</td>\n",
       "      <td>0.0</td>\n",
       "      <td>0.0</td>\n",
       "      <td>1.0</td>\n",
       "      <td>50.0</td>\n",
       "      <td>3090.0</td>\n",
       "      <td>5452.0</td>\n",
       "      <td>9463.0</td>\n",
       "      <td>3181.0</td>\n",
       "      <td>6.000000</td>\n",
       "      <td>1</td>\n",
       "      <td>1</td>\n",
       "      <td>0</td>\n",
       "      <td>5.0</td>\n",
       "      <td>3.0</td>\n",
       "      <td>0.0</td>\n",
       "      <td>1.0</td>\n",
       "      <td>42.0</td>\n",
       "      <td>0.501752</td>\n",
       "      <td>8031.0</td>\n",
       "      <td>0.511575</td>\n",
       "      <td>181.0</td>\n",
       "      <td>1.897432</td>\n",
       "      <td>0</td>\n",
       "    </tr>\n",
       "    <tr>\n",
       "      <th>2</th>\n",
       "      <td>38250.0</td>\n",
       "      <td>0.0</td>\n",
       "      <td>1.0</td>\n",
       "      <td>0.0</td>\n",
       "      <td>1.0</td>\n",
       "      <td>0.0</td>\n",
       "      <td>67500.000000</td>\n",
       "      <td>3375.00</td>\n",
       "      <td>1.0</td>\n",
       "      <td>1.0</td>\n",
       "      <td>0.0</td>\n",
       "      <td>1.0</td>\n",
       "      <td>0.0</td>\n",
       "      <td>1.0</td>\n",
       "      <td>1.0</td>\n",
       "      <td>77.0</td>\n",
       "      <td>5772.0</td>\n",
       "      <td>901.0</td>\n",
       "      <td>12462.0</td>\n",
       "      <td>1440.0</td>\n",
       "      <td>12.013727</td>\n",
       "      <td>1</td>\n",
       "      <td>0</td>\n",
       "      <td>1</td>\n",
       "      <td>2.0</td>\n",
       "      <td>1.0</td>\n",
       "      <td>1.0</td>\n",
       "      <td>1.0</td>\n",
       "      <td>5.0</td>\n",
       "      <td>0.501752</td>\n",
       "      <td>30997.0</td>\n",
       "      <td>0.511575</td>\n",
       "      <td>281.0</td>\n",
       "      <td>1.897432</td>\n",
       "      <td>0</td>\n",
       "    </tr>\n",
       "    <tr>\n",
       "      <th>4</th>\n",
       "      <td>13500.0</td>\n",
       "      <td>1.0</td>\n",
       "      <td>1.0</td>\n",
       "      <td>0.0</td>\n",
       "      <td>1.0</td>\n",
       "      <td>0.0</td>\n",
       "      <td>43603.200000</td>\n",
       "      <td>2515.95</td>\n",
       "      <td>1.0</td>\n",
       "      <td>4.0</td>\n",
       "      <td>3.0</td>\n",
       "      <td>1.0</td>\n",
       "      <td>0.0</td>\n",
       "      <td>0.0</td>\n",
       "      <td>1.0</td>\n",
       "      <td>39.0</td>\n",
       "      <td>5641.0</td>\n",
       "      <td>261.0</td>\n",
       "      <td>7840.0</td>\n",
       "      <td>2908.0</td>\n",
       "      <td>7.000000</td>\n",
       "      <td>1</td>\n",
       "      <td>0</td>\n",
       "      <td>0</td>\n",
       "      <td>2.0</td>\n",
       "      <td>2.0</td>\n",
       "      <td>1.0</td>\n",
       "      <td>1.0</td>\n",
       "      <td>42.0</td>\n",
       "      <td>0.731110</td>\n",
       "      <td>20182.0</td>\n",
       "      <td>0.730987</td>\n",
       "      <td>927.0</td>\n",
       "      <td>1.000000</td>\n",
       "      <td>0</td>\n",
       "    </tr>\n",
       "    <tr>\n",
       "      <th>6</th>\n",
       "      <td>11250.0</td>\n",
       "      <td>1.0</td>\n",
       "      <td>1.0</td>\n",
       "      <td>0.0</td>\n",
       "      <td>1.0</td>\n",
       "      <td>0.0</td>\n",
       "      <td>53366.850000</td>\n",
       "      <td>2273.85</td>\n",
       "      <td>1.0</td>\n",
       "      <td>2.0</td>\n",
       "      <td>3.0</td>\n",
       "      <td>1.0</td>\n",
       "      <td>0.0</td>\n",
       "      <td>0.0</td>\n",
       "      <td>1.0</td>\n",
       "      <td>76.0</td>\n",
       "      <td>7053.0</td>\n",
       "      <td>2424.0</td>\n",
       "      <td>5391.0</td>\n",
       "      <td>5522.0</td>\n",
       "      <td>4.000000</td>\n",
       "      <td>1</td>\n",
       "      <td>0</td>\n",
       "      <td>0</td>\n",
       "      <td>2.0</td>\n",
       "      <td>2.0</td>\n",
       "      <td>1.0</td>\n",
       "      <td>0.0</td>\n",
       "      <td>41.0</td>\n",
       "      <td>0.559248</td>\n",
       "      <td>13035.0</td>\n",
       "      <td>0.375711</td>\n",
       "      <td>2154.0</td>\n",
       "      <td>4.000000</td>\n",
       "      <td>0</td>\n",
       "    </tr>\n",
       "    <tr>\n",
       "      <th>8</th>\n",
       "      <td>18000.0</td>\n",
       "      <td>1.0</td>\n",
       "      <td>0.0</td>\n",
       "      <td>0.0</td>\n",
       "      <td>1.0</td>\n",
       "      <td>0.0</td>\n",
       "      <td>53747.100000</td>\n",
       "      <td>5801.40</td>\n",
       "      <td>1.0</td>\n",
       "      <td>1.0</td>\n",
       "      <td>3.0</td>\n",
       "      <td>1.0</td>\n",
       "      <td>0.0</td>\n",
       "      <td>0.0</td>\n",
       "      <td>1.0</td>\n",
       "      <td>80.0</td>\n",
       "      <td>15487.0</td>\n",
       "      <td>2107.0</td>\n",
       "      <td>6747.0</td>\n",
       "      <td>1634.0</td>\n",
       "      <td>3.000000</td>\n",
       "      <td>1</td>\n",
       "      <td>0</td>\n",
       "      <td>0</td>\n",
       "      <td>2.0</td>\n",
       "      <td>1.0</td>\n",
       "      <td>1.0</td>\n",
       "      <td>1.0</td>\n",
       "      <td>16.0</td>\n",
       "      <td>0.431516</td>\n",
       "      <td>31334.0</td>\n",
       "      <td>0.712155</td>\n",
       "      <td>1776.0</td>\n",
       "      <td>5.000000</td>\n",
       "      <td>0</td>\n",
       "    </tr>\n",
       "    <tr>\n",
       "      <th>...</th>\n",
       "      <td>...</td>\n",
       "      <td>...</td>\n",
       "      <td>...</td>\n",
       "      <td>...</td>\n",
       "      <td>...</td>\n",
       "      <td>...</td>\n",
       "      <td>...</td>\n",
       "      <td>...</td>\n",
       "      <td>...</td>\n",
       "      <td>...</td>\n",
       "      <td>...</td>\n",
       "      <td>...</td>\n",
       "      <td>...</td>\n",
       "      <td>...</td>\n",
       "      <td>...</td>\n",
       "      <td>...</td>\n",
       "      <td>...</td>\n",
       "      <td>...</td>\n",
       "      <td>...</td>\n",
       "      <td>...</td>\n",
       "      <td>...</td>\n",
       "      <td>...</td>\n",
       "      <td>...</td>\n",
       "      <td>...</td>\n",
       "      <td>...</td>\n",
       "      <td>...</td>\n",
       "      <td>...</td>\n",
       "      <td>...</td>\n",
       "      <td>...</td>\n",
       "      <td>...</td>\n",
       "      <td>...</td>\n",
       "      <td>...</td>\n",
       "      <td>...</td>\n",
       "      <td>...</td>\n",
       "      <td>...</td>\n",
       "    </tr>\n",
       "    <tr>\n",
       "      <th>80885</th>\n",
       "      <td>40500.0</td>\n",
       "      <td>0.0</td>\n",
       "      <td>0.0</td>\n",
       "      <td>0.0</td>\n",
       "      <td>1.0</td>\n",
       "      <td>1.0</td>\n",
       "      <td>59934.001053</td>\n",
       "      <td>2857.05</td>\n",
       "      <td>1.0</td>\n",
       "      <td>1.0</td>\n",
       "      <td>0.0</td>\n",
       "      <td>1.0</td>\n",
       "      <td>1.0</td>\n",
       "      <td>0.0</td>\n",
       "      <td>1.0</td>\n",
       "      <td>56.0</td>\n",
       "      <td>5353.0</td>\n",
       "      <td>3425.0</td>\n",
       "      <td>1504.0</td>\n",
       "      <td>3575.0</td>\n",
       "      <td>12.013727</td>\n",
       "      <td>1</td>\n",
       "      <td>0</td>\n",
       "      <td>0</td>\n",
       "      <td>3.0</td>\n",
       "      <td>2.0</td>\n",
       "      <td>1.0</td>\n",
       "      <td>1.0</td>\n",
       "      <td>9.0</td>\n",
       "      <td>0.501752</td>\n",
       "      <td>30829.0</td>\n",
       "      <td>0.720944</td>\n",
       "      <td>507.0</td>\n",
       "      <td>0.000000</td>\n",
       "      <td>0</td>\n",
       "    </tr>\n",
       "    <tr>\n",
       "      <th>80886</th>\n",
       "      <td>24750.0</td>\n",
       "      <td>1.0</td>\n",
       "      <td>0.0</td>\n",
       "      <td>1.0</td>\n",
       "      <td>1.0</td>\n",
       "      <td>0.0</td>\n",
       "      <td>54213.300000</td>\n",
       "      <td>3957.75</td>\n",
       "      <td>1.0</td>\n",
       "      <td>2.0</td>\n",
       "      <td>0.0</td>\n",
       "      <td>2.0</td>\n",
       "      <td>1.0</td>\n",
       "      <td>0.0</td>\n",
       "      <td>3.0</td>\n",
       "      <td>27.0</td>\n",
       "      <td>1378.0</td>\n",
       "      <td>2522.0</td>\n",
       "      <td>7042.0</td>\n",
       "      <td>3056.0</td>\n",
       "      <td>14.000000</td>\n",
       "      <td>1</td>\n",
       "      <td>0</td>\n",
       "      <td>0</td>\n",
       "      <td>1.0</td>\n",
       "      <td>3.0</td>\n",
       "      <td>1.0</td>\n",
       "      <td>1.0</td>\n",
       "      <td>41.0</td>\n",
       "      <td>0.265116</td>\n",
       "      <td>6348.0</td>\n",
       "      <td>0.736623</td>\n",
       "      <td>1542.0</td>\n",
       "      <td>1.000000</td>\n",
       "      <td>0</td>\n",
       "    </tr>\n",
       "    <tr>\n",
       "      <th>80887</th>\n",
       "      <td>11250.0</td>\n",
       "      <td>0.0</td>\n",
       "      <td>1.0</td>\n",
       "      <td>0.0</td>\n",
       "      <td>1.0</td>\n",
       "      <td>0.0</td>\n",
       "      <td>45000.000000</td>\n",
       "      <td>2188.80</td>\n",
       "      <td>1.0</td>\n",
       "      <td>4.0</td>\n",
       "      <td>3.0</td>\n",
       "      <td>1.0</td>\n",
       "      <td>1.0</td>\n",
       "      <td>0.0</td>\n",
       "      <td>1.0</td>\n",
       "      <td>63.0</td>\n",
       "      <td>1059.0</td>\n",
       "      <td>1131.0</td>\n",
       "      <td>3596.0</td>\n",
       "      <td>4153.0</td>\n",
       "      <td>12.013727</td>\n",
       "      <td>1</td>\n",
       "      <td>0</td>\n",
       "      <td>0</td>\n",
       "      <td>2.0</td>\n",
       "      <td>2.0</td>\n",
       "      <td>1.0</td>\n",
       "      <td>1.0</td>\n",
       "      <td>42.0</td>\n",
       "      <td>0.286620</td>\n",
       "      <td>19871.0</td>\n",
       "      <td>0.234015</td>\n",
       "      <td>378.0</td>\n",
       "      <td>0.000000</td>\n",
       "      <td>0</td>\n",
       "    </tr>\n",
       "    <tr>\n",
       "      <th>80892</th>\n",
       "      <td>13500.0</td>\n",
       "      <td>0.0</td>\n",
       "      <td>0.0</td>\n",
       "      <td>1.0</td>\n",
       "      <td>1.0</td>\n",
       "      <td>0.0</td>\n",
       "      <td>80865.000000</td>\n",
       "      <td>2621.70</td>\n",
       "      <td>1.0</td>\n",
       "      <td>4.0</td>\n",
       "      <td>3.0</td>\n",
       "      <td>1.0</td>\n",
       "      <td>1.0</td>\n",
       "      <td>0.0</td>\n",
       "      <td>1.0</td>\n",
       "      <td>31.0</td>\n",
       "      <td>3747.0</td>\n",
       "      <td>1999.0</td>\n",
       "      <td>9533.0</td>\n",
       "      <td>4070.0</td>\n",
       "      <td>12.013727</td>\n",
       "      <td>1</td>\n",
       "      <td>0</td>\n",
       "      <td>0</td>\n",
       "      <td>2.0</td>\n",
       "      <td>2.0</td>\n",
       "      <td>1.0</td>\n",
       "      <td>0.0</td>\n",
       "      <td>33.0</td>\n",
       "      <td>0.501752</td>\n",
       "      <td>15760.0</td>\n",
       "      <td>0.511575</td>\n",
       "      <td>0.0</td>\n",
       "      <td>1.897432</td>\n",
       "      <td>0</td>\n",
       "    </tr>\n",
       "    <tr>\n",
       "      <th>80897</th>\n",
       "      <td>54000.0</td>\n",
       "      <td>1.0</td>\n",
       "      <td>0.0</td>\n",
       "      <td>1.0</td>\n",
       "      <td>1.0</td>\n",
       "      <td>0.0</td>\n",
       "      <td>52128.000000</td>\n",
       "      <td>2742.30</td>\n",
       "      <td>1.0</td>\n",
       "      <td>4.0</td>\n",
       "      <td>3.0</td>\n",
       "      <td>1.0</td>\n",
       "      <td>0.0</td>\n",
       "      <td>0.0</td>\n",
       "      <td>1.0</td>\n",
       "      <td>75.0</td>\n",
       "      <td>15640.0</td>\n",
       "      <td>7102.0</td>\n",
       "      <td>6647.0</td>\n",
       "      <td>5454.0</td>\n",
       "      <td>19.000000</td>\n",
       "      <td>1</td>\n",
       "      <td>0</td>\n",
       "      <td>0</td>\n",
       "      <td>2.0</td>\n",
       "      <td>2.0</td>\n",
       "      <td>1.0</td>\n",
       "      <td>0.0</td>\n",
       "      <td>42.0</td>\n",
       "      <td>0.501752</td>\n",
       "      <td>10458.0</td>\n",
       "      <td>0.215182</td>\n",
       "      <td>426.0</td>\n",
       "      <td>0.000000</td>\n",
       "      <td>0</td>\n",
       "    </tr>\n",
       "  </tbody>\n",
       "</table>\n",
       "<p>51824 rows × 35 columns</p>\n",
       "</div>"
      ],
      "text/plain": [
       "       Client_Income  Car_Owned  Bike_Owned  Active_Loan  House_Own  Child_Count  Credit_Amount  Loan_Annuity  Accompany_Client  Client_Income_Type  Client_Education  Client_Marital_Status  Client_Gender  Loan_Contract_Type  Client_Housing_Type  Population_Region_Relative  Age_Days  Employed_Days  Registration_Days  ID_Days  Own_House_Age  Mobile_Tag  Homephone_Tag  Workphone_Working  Client_Family_Members  Cleint_City_Rating  Client_Permanent_Match_Tag  Client_Contact_Work_Tag  Type_Organization  Score_Source_1  Score_Source_2  Score_Source_3  Phone_Change  Credit_Bureau  Default_Predicted\n",
       "1            13500.0        1.0         1.0          1.0        1.0          3.0   49752.000000       3252.15               1.0                 4.0               3.0                    1.0            0.0                 0.0                  1.0                        50.0    3090.0         5452.0             9463.0   3181.0       6.000000           1              1                  0                    5.0                 3.0                         0.0                      1.0               42.0        0.501752          8031.0        0.511575         181.0       1.897432                  0\n",
       "2            38250.0        0.0         1.0          0.0        1.0          0.0   67500.000000       3375.00               1.0                 1.0               0.0                    1.0            0.0                 1.0                  1.0                        77.0    5772.0          901.0            12462.0   1440.0      12.013727           1              0                  1                    2.0                 1.0                         1.0                      1.0                5.0        0.501752         30997.0        0.511575         281.0       1.897432                  0\n",
       "4            13500.0        1.0         1.0          0.0        1.0          0.0   43603.200000       2515.95               1.0                 4.0               3.0                    1.0            0.0                 0.0                  1.0                        39.0    5641.0          261.0             7840.0   2908.0       7.000000           1              0                  0                    2.0                 2.0                         1.0                      1.0               42.0        0.731110         20182.0        0.730987         927.0       1.000000                  0\n",
       "6            11250.0        1.0         1.0          0.0        1.0          0.0   53366.850000       2273.85               1.0                 2.0               3.0                    1.0            0.0                 0.0                  1.0                        76.0    7053.0         2424.0             5391.0   5522.0       4.000000           1              0                  0                    2.0                 2.0                         1.0                      0.0               41.0        0.559248         13035.0        0.375711        2154.0       4.000000                  0\n",
       "8            18000.0        1.0         0.0          0.0        1.0          0.0   53747.100000       5801.40               1.0                 1.0               3.0                    1.0            0.0                 0.0                  1.0                        80.0   15487.0         2107.0             6747.0   1634.0       3.000000           1              0                  0                    2.0                 1.0                         1.0                      1.0               16.0        0.431516         31334.0        0.712155        1776.0       5.000000                  0\n",
       "...              ...        ...         ...          ...        ...          ...            ...           ...               ...                 ...               ...                    ...            ...                 ...                  ...                         ...       ...            ...                ...      ...            ...         ...            ...                ...                    ...                 ...                         ...                      ...                ...             ...             ...             ...           ...            ...                ...\n",
       "80885        40500.0        0.0         0.0          0.0        1.0          1.0   59934.001053       2857.05               1.0                 1.0               0.0                    1.0            1.0                 0.0                  1.0                        56.0    5353.0         3425.0             1504.0   3575.0      12.013727           1              0                  0                    3.0                 2.0                         1.0                      1.0                9.0        0.501752         30829.0        0.720944         507.0       0.000000                  0\n",
       "80886        24750.0        1.0         0.0          1.0        1.0          0.0   54213.300000       3957.75               1.0                 2.0               0.0                    2.0            1.0                 0.0                  3.0                        27.0    1378.0         2522.0             7042.0   3056.0      14.000000           1              0                  0                    1.0                 3.0                         1.0                      1.0               41.0        0.265116          6348.0        0.736623        1542.0       1.000000                  0\n",
       "80887        11250.0        0.0         1.0          0.0        1.0          0.0   45000.000000       2188.80               1.0                 4.0               3.0                    1.0            1.0                 0.0                  1.0                        63.0    1059.0         1131.0             3596.0   4153.0      12.013727           1              0                  0                    2.0                 2.0                         1.0                      1.0               42.0        0.286620         19871.0        0.234015         378.0       0.000000                  0\n",
       "80892        13500.0        0.0         0.0          1.0        1.0          0.0   80865.000000       2621.70               1.0                 4.0               3.0                    1.0            1.0                 0.0                  1.0                        31.0    3747.0         1999.0             9533.0   4070.0      12.013727           1              0                  0                    2.0                 2.0                         1.0                      0.0               33.0        0.501752         15760.0        0.511575           0.0       1.897432                  0\n",
       "80897        54000.0        1.0         0.0          1.0        1.0          0.0   52128.000000       2742.30               1.0                 4.0               3.0                    1.0            0.0                 0.0                  1.0                        75.0   15640.0         7102.0             6647.0   5454.0      19.000000           1              0                  0                    2.0                 2.0                         1.0                      0.0               42.0        0.501752         10458.0        0.215182         426.0       0.000000                  0\n",
       "\n",
       "[51824 rows x 35 columns]"
      ]
     },
     "execution_count": 79,
     "metadata": {},
     "output_type": "execute_result"
    }
   ],
   "source": [
    "df_test"
   ]
  },
  {
   "cell_type": "code",
   "execution_count": null,
   "id": "e1ea1899",
   "metadata": {},
   "outputs": [],
   "source": []
  }
 ],
 "metadata": {
  "kernelspec": {
   "display_name": "Python 3 (ipykernel)",
   "language": "python",
   "name": "python3"
  },
  "language_info": {
   "codemirror_mode": {
    "name": "ipython",
    "version": 3
   },
   "file_extension": ".py",
   "mimetype": "text/x-python",
   "name": "python",
   "nbconvert_exporter": "python",
   "pygments_lexer": "ipython3",
   "version": "3.11.5"
  }
 },
 "nbformat": 4,
 "nbformat_minor": 5
}
